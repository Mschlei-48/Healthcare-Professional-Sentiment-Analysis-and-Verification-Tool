{
  "cells": [
    {
      "cell_type": "code",
      "execution_count": 1,
      "metadata": {
        "id": "YMMuiNbfnnHg"
      },
      "outputs": [],
      "source": [
        "import pandas as pd\n",
        "import requests"
      ]
    },
    {
      "cell_type": "code",
      "execution_count": 2,
      "metadata": {
        "id": "oVV9CMxwqhPS"
      },
      "outputs": [],
      "source": [
        "#Create a list that will store the data we will scrape\n",
        "mat_data=[]"
      ]
    },
    {
      "cell_type": "code",
      "execution_count": 3,
      "metadata": {
        "id": "mwvaID0lqv3T"
      },
      "outputs": [],
      "source": [
        "#Define the api payload to get the data we want\n",
        "payload={\n",
        "    'api_key':'f1db5231bec21e7705b5ba1fbf209d72',\n",
        "    'query':\"Dr Matthew fake doctor\",\n",
        "    'num':'100'\n",
        "}\n",
        "response=requests.get(\n",
        "    'https://api.scraperapi.com/structured/twitter/search',\n",
        "    params=payload\n",
        ")\n",
        "data=response.json()"
      ]
    },
    {
      "cell_type": "code",
      "execution_count": 4,
      "metadata": {
        "colab": {
          "base_uri": "https://localhost:8080/"
        },
        "id": "guYmXL6RuXD6",
        "outputId": "88e1b7ef-37d6-47ab-f56e-70b1519e1733"
      },
      "outputs": [
        {
          "data": {
            "text/plain": [
              "{'search_information': {'query_displayed': 'site:twitter.com \"Dr Matthew fake doctor\"',\n",
              "  'total_results': 3060,\n",
              "  'time_taken_displayed': 0.56,\n",
              "  'no_results_for_exact_query': True,\n",
              "  'query_result_mismatch_message': 'No results found for site:twitter.com \"Dr Matthew fake doctor\".Results for site:twitter.com Dr Matthew fake doctor (without quotes):'},\n",
              " 'organic_results': [{'position': 0,\n",
              "   'title': 'The Instigator',\n",
              "   'snippet': 'Another Fake Doctor... Atleast \"Dr\" Matthew was delivering the ARVs he was selling as weight loss pills... This one is just scamming people\\xa0...',\n",
              "   'highlighs': ['Fake Doctor', 'Dr', 'Matthew'],\n",
              "   'link': 'https://twitter.com/Am_Blujay/status/1726664788921708875',\n",
              "   'displayed_link': 'https://twitter.com › Am_Blujay › status'},\n",
              "  {'position': 1,\n",
              "   'title': \"Fake Doctor, Dr Matthew claim he's at work doing night shift.\",\n",
              "   'snippet': \"Fake Doctor, Dr Matthew claim he's at work doing night shift.\",\n",
              "   'highlighs': ['Fake Doctor', 'Dr Matthew'],\n",
              "   'link': 'https://twitter.com/MDNnewss/status/1718016267947217345',\n",
              "   'displayed_link': 'https://twitter.com › MDNnewss › status'},\n",
              "  {'position': 2,\n",
              "   'title': \"Man's NOT Barry Roux\",\n",
              "   'snippet': 'A fake Doctor, Dr Matthew Bongani Lani has been arrested by Security at Hospital where she went to shoot TikTok content in an attempt to\\xa0...',\n",
              "   'highlighs': ['fake Doctor', 'Dr Matthew'],\n",
              "   'link': 'https://twitter.com/AdvoBarryRoux/status/1718708975099650195',\n",
              "   'displayed_link': 'https://twitter.com › AdvoBarryRoux › status'},\n",
              "  {'position': 3,\n",
              "   'title': 'Fake Doctor, Dr Matthew Lani has been arrested..',\n",
              "   'snippet': 'Fake Doctor, Dr Matthew Lani has been arrested..',\n",
              "   'highlighs': ['Fake Doctor', 'Dr Matthew'],\n",
              "   'link': 'https://twitter.com/MDNnewss/status/1718713857881801002',\n",
              "   'displayed_link': 'https://twitter.com › MDNnewss › status'},\n",
              "  {'position': 4,\n",
              "   'title': 'Hermaine M',\n",
              "   'snippet': 'It ended in tears for fake Doctor, Dr Matthew Lani.',\n",
              "   'highlighs': ['fake Doctor', 'Dr Matthew'],\n",
              "   'link': 'https://twitter.com/HermaineM/status/1718857873910899030',\n",
              "   'displayed_link': 'https://twitter.com › HermaineM › status'},\n",
              "  {'position': 5,\n",
              "   'title': 'We need to be honest about Dr Matthew Lani,His one ...',\n",
              "   'snippet': 'We need to be honest about Dr Matthew Lani,His one of those fake doctors with Fake Qualifications We seen many in South Africa and are not\\xa0...',\n",
              "   'highlighs': ['Dr Matthew', 'fake', 'Fake'],\n",
              "   'link': 'https://twitter.com/joy_zelda/status/1711139803033428401',\n",
              "   'displayed_link': 'https://twitter.com › joy_zelda › status'},\n",
              "  {'position': 6,\n",
              "   'title': 'the truth panther',\n",
              "   'snippet': 'Matthew Bongani Lani, a fake doctor, was allegedly arrested by security at the hospital when he went to record content for TikTok in an effort\\xa0...',\n",
              "   'highlighs': ['Matthew', 'fake doctor'],\n",
              "   'link': 'https://twitter.com/TheTruthPanther/status/1718714130813554954',\n",
              "   'displayed_link': 'https://twitter.com › TheTruthPanther › status'},\n",
              "  {'position': 7,\n",
              "   'title': 'the truth panther',\n",
              "   'snippet': 'WATCH: Fake doctor \"Dr.\" Matthew Lani was released from the Johannesburg magistrate\\'s court on Tuesday without having to enter the dock\\xa0...',\n",
              "   'highlighs': ['Fake doctor', 'Dr', 'Matthew'],\n",
              "   'link': 'https://twitter.com/TheTruthPanther/status/1719331262534472066',\n",
              "   'displayed_link': 'https://twitter.com › TheTruthPanther › status'},\n",
              "  {'position': 8,\n",
              "   'title': 'The Progress',\n",
              "   'snippet': '... Dr Matthew being fake as being serious. A person posing as a doctor is a danger and someone might be unlucky at get \"treated\" by this guy. 8\\xa0...',\n",
              "   'highlighs': ['Dr Matthew', 'fake', 'doctor'],\n",
              "   'link': 'https://twitter.com/TheProgress_/status/1725431016729260332',\n",
              "   'displayed_link': 'https://twitter.com › TheProgress_ › status'},\n",
              "  {'position': 9,\n",
              "   'title': \"Fake doctor, Dr Matthew Lani still maintain that he's a ...\",\n",
              "   'snippet': \"Fake doctor, Dr Matthew Lani still maintain that he's a qualified doctor and registered with HPCSA. Video credit @jozitube.\",\n",
              "   'highlighs': ['Fake doctor', 'Dr Matthew'],\n",
              "   'link': 'https://twitter.com/MDNnewss/status/1711740356981592238',\n",
              "   'displayed_link': 'https://twitter.com › MDNnewss › status'},\n",
              "  {'position': 10,\n",
              "   'title': 'Kasi Broadcasting News',\n",
              "   'snippet': \"Dr Matthew's Arrested for Fake Doctor ..... #MakeAfricaGreat. Embedded video. 0:18. 7:33 PM · Oct 29, 2023.\",\n",
              "   'highlighs': [\"Dr Matthew's\", 'Fake Doctor'],\n",
              "   'link': 'https://twitter.com/kasibcnews/status/1718712760614125748',\n",
              "   'displayed_link': 'https://twitter.com › kasibcnews › status'},\n",
              "  {'position': 11,\n",
              "   'title': 'December 2022. “Dr Matthew Lani” claims he was ...',\n",
              "   'snippet': 'December 2022. “Dr Matthew Lani” claims he was contacted by HPCSA after a complaint was lodged of him being a fake doctor.',\n",
              "   'highlighs': ['Dr Matthew', 'fake doctor'],\n",
              "   'link': 'https://twitter.com/odirileram/status/1711316645745176775',\n",
              "   'displayed_link': 'https://twitter.com › odirileram › status'},\n",
              "  {'position': 12,\n",
              "   'title': 'Alleged fake doctor Dr Matthew Lani address HPCSA and ...',\n",
              "   'snippet': 'Alleged fake doctor Dr Matthew Lani address HPCSA and Wits University.',\n",
              "   'highlighs': ['fake doctor Dr Matthew'],\n",
              "   'link': 'https://twitter.com/MDNnewss/status/1711403897045094854',\n",
              "   'displayed_link': 'https://twitter.com › MDNnewss › status'},\n",
              "  {'position': 13,\n",
              "   'title': 'Ms HellenR (@Ms_HellenR) / X',\n",
              "   'snippet': 'STATEMENT: Department of Health in Gauteng has confirmed that fake doctor Matthew ... Dr Matthew attended ABET school. -His real name is Bongani - He was Born in\\xa0...',\n",
              "   'highlighs': ['fake doctor', 'Dr Matthew'],\n",
              "   'link': 'https://twitter.com/ms_hellenr',\n",
              "   'displayed_link': 'https://twitter.com › ms_hellenr'},\n",
              "  {'position': 14,\n",
              "   'title': 'Judaeda Blanco',\n",
              "   'snippet': 'Dr Matthew Lani charges withdrawn today, Fake Doctor with 9 lives. Embedded video. 2:09. 12:34 PM · Oct 31, 2023.',\n",
              "   'highlighs': ['Dr Matthew', 'Fake Doctor'],\n",
              "   'link': 'https://twitter.com/Judaeda3/status/1719332024652091582',\n",
              "   'displayed_link': 'https://twitter.com › Judaeda3 › status'},\n",
              "  {'position': 15,\n",
              "   'title': '\"surely there\\'s fraud? and impersonating a ...',\n",
              "   'snippet': 'BREAKING: Charges against fake doctor Bongani Lani ( Dr Matthew ) dropped. “You can not be charged for lying. Lying is not an offence” says\\xa0...',\n",
              "   'highlighs': ['fake doctor', 'Dr Matthew'],\n",
              "   'link': 'https://twitter.com/foyinog/status/1719353085091303682',\n",
              "   'displayed_link': 'https://twitter.com › foyinog › status'},\n",
              "  {'position': 16,\n",
              "   'title': 'MDN NEWS',\n",
              "   'snippet': 'Fake doctor \"Dr Matthew Lani\" has a \"direct iMessage\" with the Department of Health that the Department does not recognize or acknowledge.',\n",
              "   'highlighs': ['Fake doctor', 'Dr Matthew'],\n",
              "   'link': 'https://twitter.com/MDNnewss/status/1714942721612300642',\n",
              "   'displayed_link': 'https://twitter.com › MDNnewss › status'},\n",
              "  {'position': 17,\n",
              "   'title': '\"I know Dr Matthew is not the only fake doctor on ...',\n",
              "   'snippet': \"I know Dr Matthew is not the only fake doctor on these socials. I'll be dropping names at 12.\",\n",
              "   'highlighs': ['Dr Matthew', 'fake doctor'],\n",
              "   'link': 'https://twitter.com/Thembisile_Q/status/1711304211462291720',\n",
              "   'displayed_link': 'https://twitter.com › Thembisile_Q › status'},\n",
              "  {'position': 18,\n",
              "   'title': 'Lerato Pillay',\n",
              "   'snippet': 'STATEMENT: Department of Health in Gauteng has confirmed that fake doctor Matthew Lani was apprehended by security personnel at Helen Joseph\\xa0...',\n",
              "   'highlighs': ['fake doctor Matthew'],\n",
              "   'link': 'https://twitter.com/nyebe_official/status/1718781625054474300',\n",
              "   'displayed_link': 'https://twitter.com › nyebe_official › status'},\n",
              "  {'position': 19,\n",
              "   'title': 'This is for content as he claimed? He is mentally disabled',\n",
              "   'snippet': 'The charges against fake Doctor Dr Matthew has been dropped #DrMatthew #SpringboksRWC #HPCSA #Thisbodyworksforme #Omuhle #Rigged\\xa0...',\n",
              "   'highlighs': ['fake Doctor Dr Matthew'],\n",
              "   'link': 'https://twitter.com/MabundaHlayisek/status/1719373964500148573',\n",
              "   'displayed_link': 'https://twitter.com › MabundaHlayisek › status'},\n",
              "  {'position': 20,\n",
              "   'title': \"Melo's Mommy\",\n",
              "   'snippet': 'BREAKING: Charges against fake doctor Bongani Lani ( Dr Matthew ) dropped. “You can not be charged for lying. Lying is not an offence” says\\xa0...',\n",
              "   'highlighs': ['fake doctor', 'Dr Matthew'],\n",
              "   'link': 'https://twitter.com/LeratoMannya/status/1719308926112375275',\n",
              "   'displayed_link': 'https://twitter.com › LeratoMannya › status'},\n",
              "  {'position': 21,\n",
              "   'title': 'ChrisExcel',\n",
              "   'snippet': \"... 't fit in their doctor standards But didn't hesitate to believed a fake Dr Matthew bcz he is rainbonbow nation   yellow bone.\",\n",
              "   'highlighs': ['doctor', 'fake Dr Matthew'],\n",
              "   'link': 'https://twitter.com/ChrisExcel102/status/1711304769669660843',\n",
              "   'displayed_link': 'https://twitter.com › ChrisExcel102 › status'},\n",
              "  {'position': 22,\n",
              "   'title': '\"The story goes that in 2021, Gomolemo\\'s Bonolo Seleke ...',\n",
              "   'snippet': \"The story goes that in 2021, Gomolemo's Bonolo Seleke reported Matthew as a fake doctor at Christiana Clinic, where they both worked.\",\n",
              "   'highlighs': ['Matthew', 'fake doctor'],\n",
              "   'link': 'https://twitter.com/desireemav/status/1711972466564682137',\n",
              "   'displayed_link': 'https://twitter.com › desireemav › status'},\n",
              "  {'position': 23,\n",
              "   'title': 'MDN NEWS',\n",
              "   'snippet': 'Alleged fake doctor, Dr Matthew Lani says his \"colleagues\" didn\\'t wish him a Happy Birthday today because of all this noise on social media.',\n",
              "   'highlighs': ['fake doctor', 'Dr Matthew'],\n",
              "   'link': 'https://twitter.com/MDNnewss/status/1711433070417482195',\n",
              "   'displayed_link': 'https://twitter.com › MDNnewss › status'},\n",
              "  {'position': 24,\n",
              "   'title': 'Commander Of Armies',\n",
              "   'snippet': 'The legal troubles of bogus Dr Matthew have not ended! Gomolemo Bonolo Seleke the whistleblower who first exposed social media influencer as\\xa0...',\n",
              "   'highlighs': ['Dr Matthew'],\n",
              "   'link': 'https://twitter.com/NgoveniSbu/status/1722169731296248074',\n",
              "   'displayed_link': 'https://twitter.com › NgoveniSbu › status'},\n",
              "  {'position': 25,\n",
              "   'title': 'Nthabiseng Simphiwe',\n",
              "   'snippet': 'The charges against fake Doctor Dr Matthew has been dropped #DrMatthew #SpringboksRWC #HPCSA #Thisbodyworksforme #Omuhle #Rigged\\xa0...',\n",
              "   'highlighs': ['fake Doctor Dr Matthew'],\n",
              "   'link': 'https://twitter.com/NthabisengSimp2/status/1719323537817616466',\n",
              "   'displayed_link': 'https://twitter.com › NthabisengSimp2 › status'},\n",
              "  {'position': 26,\n",
              "   'title': 'Tiktok banned the account of Dr Matthew, the fake doctor ...',\n",
              "   'snippet': 'Tiktok banned the account of Dr Matthew, the fake doctor while he was still trying to lie some more.',\n",
              "   'highlighs': ['Dr Matthew', 'fake doctor'],\n",
              "   'link': 'https://twitter.com/MDNnewss/status/1711682725948633250',\n",
              "   'displayed_link': 'https://twitter.com › MDNnewss › status'},\n",
              "  {'position': 27,\n",
              "   'title': 'Zintle Zimbini',\n",
              "   'snippet': \"Of course government will try to make an example out of bogus Dr Matthew, who's mentally ill when there are tens of thousands fake doctors from\\xa0...\",\n",
              "   'highlighs': ['Dr Matthew', 'fake'],\n",
              "   'link': 'https://twitter.com/ZinhleMamfengu/status/1719206924871184634',\n",
              "   'displayed_link': 'https://twitter.com › ZinhleMamfengu › status'},\n",
              "  {'position': 28,\n",
              "   'title': 'EWN Reporter',\n",
              "   'snippet': '[JUST IN] The Gauteng Department of Health has opened a criminal case against “bogus Doctor” known as Dr Matthew Lani.',\n",
              "   'highlighs': ['Doctor', 'Dr Matthew'],\n",
              "   'link': 'https://twitter.com/ewnreporter/status/1711435854961393971',\n",
              "   'displayed_link': 'https://twitter.com › ewnreporter › status'},\n",
              "  {'position': 29,\n",
              "   'title': 'Aphelele Jody',\n",
              "   'snippet': \"... not on the system?? He's operating like his client Dr Matthew Fake lawyer defending a fake doctor. Image. 4:06 PM · Oct 30, 2023. ·. 21.3K. Views.\",\n",
              "   'highlighs': ['Dr Matthew', 'fake doctor'],\n",
              "   'link': 'https://twitter.com/ApheleleJody/status/1719022850210717836',\n",
              "   'displayed_link': 'https://twitter.com › ApheleleJody › status'},\n",
              "  {'position': 30,\n",
              "   'title': '\"Fair. Wished Prospectors employers m applied the same ...',\n",
              "   'snippet': 'BREAKING: Charges against fake doctor Bongani Lani ( Dr Matthew ) dropped. “You can not be charged for lying. Lying is not an offence” says\\xa0...',\n",
              "   'highlighs': ['fake doctor', 'Dr Matthew'],\n",
              "   'link': 'https://twitter.com/HlogiMoleXx/status/1719309518805271000',\n",
              "   'displayed_link': 'https://twitter.com › HlogiMoleXx › status'},\n",
              "  {'position': 31,\n",
              "   'title': '\"Someone said “ we need a fake lawyer to represent a fake ...',\n",
              "   'snippet': 'Someone said “ we need a fake lawyer to represent a fake doctor” Dr Matthew.',\n",
              "   'highlighs': ['fake doctor', 'Dr Matthew'],\n",
              "   'link': 'https://twitter.com/SdakwaSeNkosi_/status/1718892123691307213',\n",
              "   'displayed_link': 'https://twitter.com › SdakwaSeNkosi_ › status'},\n",
              "  {'position': 32,\n",
              "   'title': 'MDN NEWS',\n",
              "   'snippet': '... fake after claiming he was bought a new Ford RANGER by fans.. Dr Matthew Lani who is known to be an HIV activist and a Medical doctor is now\\xa0...',\n",
              "   'highlighs': ['fake', 'Dr Matthew', 'doctor'],\n",
              "   'link': 'https://twitter.com/MDNnewss/status/1711402133977788582',\n",
              "   'displayed_link': 'https://twitter.com › MDNnewss › status'},\n",
              "  {'position': 33,\n",
              "   'title': 'Hermaine M',\n",
              "   'snippet': 'Ziyakhala The Gauteng Department of Health has opened a criminal case against “fake Doctor” known as Dr Matthew Lani.',\n",
              "   'highlighs': ['fake Doctor', 'Dr Matthew'],\n",
              "   'link': 'https://twitter.com/HermaineM/status/1711463188695294090',\n",
              "   'displayed_link': 'https://twitter.com › HermaineM › status'},\n",
              "  {'position': 34,\n",
              "   'title': 'Kwena Molekwa',\n",
              "   'snippet': \"... fake doctors they've FAILED to deal...there's so many Doctor Matthews! Dr Matthew must replace Collen Malatji, honestly this government is\\xa0...\",\n",
              "   'highlighs': ['fake', 'Doctor', 'Dr Matthew'],\n",
              "   'link': 'https://twitter.com/Miz_Ruraltarain/status/1711433668898496998',\n",
              "   'displayed_link': 'https://twitter.com › Miz_Ruraltarain › status'},\n",
              "  {'position': 35,\n",
              "   'title': 'MagzSikhosana - NaSikhosana',\n",
              "   'snippet': 'BREAKING: Charges against fake doctor Bongani Lani ( Dr Matthew ) dropped. ... MEDIA STATEMENT || HELEN JOSEPH HOSPITAL SECURITY APPREHENDS THE BOGUS DOCTOR (\\xa0...',\n",
              "   'highlighs': ['fake doctor', 'Dr Matthew'],\n",
              "   'link': 'https://twitter.com/magzsikhosana',\n",
              "   'displayed_link': 'https://twitter.com › magzsikhosana'},\n",
              "  {'position': 36,\n",
              "   'title': 'Karabo Mokgoko',\n",
              "   'snippet': 'BREAKING: Charges against fake doctor Bongani Lani ( Dr Matthew ) dropped. “You can not be charged for lying. Lying is not an offence” says\\xa0...',\n",
              "   'highlighs': ['fake doctor', 'Dr Matthew'],\n",
              "   'link': 'https://twitter.com/Karabo_Mokgoko/status/1719314350844862917',\n",
              "   'displayed_link': 'https://twitter.com › Karabo_Mokgoko › status'},\n",
              "  {'position': 37,\n",
              "   'title': 'Bona Magazine',\n",
              "   'snippet': '... after finding out that the famous TikTok medical doctor Dr Matthew Bongani Lani could be a fake doctor. bona.co.za. 9:30 AM · Oct 15, 2023. ·. 372. Views.',\n",
              "   'highlighs': ['Dr Matthew', 'fake doctor'],\n",
              "   'link': 'https://twitter.com/BonaMag/status/1713487377883164747',\n",
              "   'displayed_link': 'https://twitter.com › BonaMag › status'},\n",
              "  {'position': 38,\n",
              "   'title': 'Ladylondie',\n",
              "   'snippet': 'Thank you HPCSA for finally confirming he is a Fake Doctor! Dr Matthew Dr Zingelwa Weskoppies Chrisean Dr Owabe. Embedded video. 2:05. Image.',\n",
              "   'highlighs': ['Fake Doctor', 'Dr Matthew'],\n",
              "   'link': 'https://twitter.com/Ladylondie1/status/1711401420694454541',\n",
              "   'displayed_link': 'https://twitter.com › Ladylondie1 › status'},\n",
              "  {'position': 39,\n",
              "   'title': 'IG:Joy-Zelda',\n",
              "   'snippet': '... Dr Matthew as a fake doctor working in Helen Joseph Hospital and reported it Gauteng Dept of Health she was not taken serious and was fired\\xa0...',\n",
              "   'highlighs': ['Dr Matthew', 'fake doctor'],\n",
              "   'link': 'https://twitter.com/joy_zelda/status/1718880245086929007',\n",
              "   'displayed_link': 'https://twitter.com › joy_zelda › status'},\n",
              "  {'position': 40,\n",
              "   'title': '𝓑𝓾𝓽𝓲 𝓛𝓮𝓫𝓸 🏴\\u200d☠️ (@_butilebo) / ...',\n",
              "   'snippet': 'That it took private security to do something about the fake doctor “Dr Matthew” is appalling. SAPS and this govt knew about this boy and where he is and\\xa0...',\n",
              "   'highlighs': ['fake doctor', 'Dr Matthew'],\n",
              "   'link': 'https://twitter.com/_butilebo',\n",
              "   'displayed_link': 'https://twitter.com › _butilebo'},\n",
              "  {'position': 41,\n",
              "   'title': 'Thapelo Masubelele (@ThapeloInno) ...',\n",
              "   'snippet': 'she the one who exposed Dr Matthew Lani of stealing Sanele Zingelwa identity and been a fake doctor not registered at HPCSA without her he still would be\\xa0...',\n",
              "   'highlighs': ['Dr Matthew', 'fake doctor'],\n",
              "   'link': 'https://twitter.com/ThapeloInno',\n",
              "   'displayed_link': 'https://twitter.com › ThapeloInno'},\n",
              "  {'position': 42,\n",
              "   'title': 'Kat |The great war',\n",
              "   'snippet': 'Dr Matthew Lani obtained a restraining order in 2021 against a girl who claimed on social media that he was a fake doctor.',\n",
              "   'highlighs': ['Dr Matthew', 'fake doctor'],\n",
              "   'link': 'https://twitter.com/TaylorErasEra/status/1711823796791845169',\n",
              "   'displayed_link': 'https://twitter.com › TaylorErasEra › status'},\n",
              "  {'position': 43,\n",
              "   'title': \"Loool I called it. I did say his lawyer's arguments would ...\",\n",
              "   'snippet': 'BREAKING: Charges against fake doctor Bongani Lani ( Dr Matthew ) dropped. “You can not be charged for lying. Lying is not an offence” says\\xa0...',\n",
              "   'highlighs': ['fake doctor', 'Dr Matthew'],\n",
              "   'link': 'https://twitter.com/Nampree/status/1719309661998920108',\n",
              "   'displayed_link': 'https://twitter.com › Nampree › status'},\n",
              "  {'position': 44,\n",
              "   'title': 'The Instigator',\n",
              "   'snippet': 'There is a story of a fake South African Doctor being dragged right now on the internet who goes by the name Dr Matthew Lani.',\n",
              "   'highlighs': ['fake', 'Doctor', 'Dr Matthew'],\n",
              "   'link': 'https://twitter.com/Am_Blujay/status/1711650911079059782',\n",
              "   'displayed_link': 'https://twitter.com › Am_Blujay › status'},\n",
              "  {'position': 45,\n",
              "   'title': 'MDN NEWS',\n",
              "   'snippet': 'Abdulkader Elyas who is the councilor of DA in Cape Town is suspected to be another fake doctor. #MDNnews Dr Matthew.',\n",
              "   'highlighs': ['fake doctor', 'Dr Matthew'],\n",
              "   'link': 'https://twitter.com/MDNnewss/status/1718914370208465171',\n",
              "   'displayed_link': 'https://twitter.com › MDNnewss › status'},\n",
              "  {'position': 46,\n",
              "   'title': 'Mr Rabbit',\n",
              "   'snippet': 'Does it mean anyone can now pretend to be a Doctor ? Charges against fake doctor Bongani Lani ( Dr Matthew ) dropped.',\n",
              "   'highlighs': ['fake doctor', 'Dr Matthew'],\n",
              "   'link': 'https://twitter.com/Rabbitking007/status/1719625879666503777',\n",
              "   'displayed_link': 'https://twitter.com › Rabbitking007 › status'},\n",
              "  {'position': 47,\n",
              "   'title': 'Daily Sun',\n",
              "   'snippet': \"WATCH: Fong kong Dr Matthew Lani's a free man. @SNL24sa · #DrMatthewLani #FongKong #Fake #Doctor #TikTok · Matthew Lani leaving the Joburg Magistrates Court\\xa0...\",\n",
              "   'highlighs': ['Dr Matthew', 'Fake', 'Doctor'],\n",
              "   'link': 'https://twitter.com/dailysunsa/status/1719440352942367161',\n",
              "   'displayed_link': 'https://twitter.com › dailysunsa › status'},\n",
              "  {'position': 48,\n",
              "   'title': 'Remongwe RemDeè (@Remongwe_RemDee) / X',\n",
              "   'snippet': 'We need to be honest about Dr Matthew Lani,His one of those fake doctors with Fake Qualifications We seen many in South Africa and are not registered if his\\xa0...',\n",
              "   'highlighs': ['Dr Matthew', 'fake', 'Fake'],\n",
              "   'link': 'https://twitter.com/Remongwe_RemDee',\n",
              "   'displayed_link': 'https://twitter.com › Remongwe_RemDee'},\n",
              "  {'position': 49,\n",
              "   'title': 'Melisha🍃 (@melisha_p7) / X',\n",
              "   'snippet': 'BREAKING: Charges against fake doctor Bongani Lani ( Dr Matthew ) dropped. “You can not be charged for lying. Lying is not an offence” says NPA\\xa0...',\n",
              "   'highlighs': ['fake doctor', 'Dr Matthew'],\n",
              "   'link': 'https://twitter.com/melisha_p7',\n",
              "   'displayed_link': 'https://twitter.com › melisha_p7'},\n",
              "  {'position': 50,\n",
              "   'title': 'DR MO (@Mosadotcom) / X',\n",
              "   'snippet': 'MEDIA STATEMENT || HELEN JOSEPH HOSPITAL SECURITY APPREHENDS THE BOGUS DOCTOR (MATTHEW LANI) ... NO RECORD OF MATRIC CERTIFICATE FOR BOGUS DR MATTHEW LANI\\xa0...',\n",
              "   'highlighs': ['DOCTOR', 'DR MATTHEW'],\n",
              "   'link': 'https://twitter.com/Mosadotcom',\n",
              "   'displayed_link': 'https://twitter.com › Mosadotcom'},\n",
              "  {'position': 51,\n",
              "   'title': 'Dr Nobubele Shozi (@DrNobubeleShozi) / ...',\n",
              "   'snippet': 'We need to be honest about Dr Matthew Lani,His one of those fake doctors with Fake Qualifications We seen many in South Africa and are not registered if his\\xa0...',\n",
              "   'highlighs': ['Dr Matthew', 'fake', 'Fake'],\n",
              "   'link': 'https://twitter.com/DrNobubeleShozi',\n",
              "   'displayed_link': 'https://twitter.com › DrNobubeleShozi'},\n",
              "  {'position': 52,\n",
              "   'title': 'MDN NEWS',\n",
              "   'snippet': 'Alleged fake doctor, Dr Matthew Lani says his \"colleagues\" didn\\'t wish him a Happy Birthday today because of all this noise on social media.',\n",
              "   'highlighs': ['fake doctor', 'Dr Matthew'],\n",
              "   'link': 'https://twitter.com/MDNnewss/status/1711433070417482195?lang=ar',\n",
              "   'displayed_link': 'https://twitter.com › MDNnewss › status'},\n",
              "  {'position': 53,\n",
              "   'title': 'Aphelele Jody',\n",
              "   'snippet': \"Jokes aside there are so many fake doctors on media, they buy doctor's ... Dr Matthew but this is the reality.\",\n",
              "   'highlighs': ['fake', \"doctor's\", 'Dr Matthew'],\n",
              "   'link': 'https://twitter.com/ApheleleJody/status/1711297626346242371',\n",
              "   'displayed_link': 'https://twitter.com › ApheleleJody › status'},\n",
              "  {'position': 54,\n",
              "   'title': 'Hector. on X: \"😂 But Fraud is an offence though.\" / X',\n",
              "   'snippet': 'BREAKING: Charges against fake doctor Bongani Lani ( Dr Matthew ) dropped. “You can not be charged for lying. Lying is not an offence” says\\xa0...',\n",
              "   'highlighs': ['fake doctor', 'Dr Matthew'],\n",
              "   'link': 'https://twitter.com/HexHeizzy/status/1719313203262296346',\n",
              "   'displayed_link': 'https://twitter.com › HexHeizzy › status'},\n",
              "  {'position': 55,\n",
              "   'title': 'Kwena Molekwa',\n",
              "   'snippet': '... fake health-care practitioners like Dr Matthew Lani? A whole Hellen Joseph and medi clinic hired a FAKE DOCTOR...maybe it will explain why\\xa0...',\n",
              "   'highlighs': ['Dr Matthew', 'FAKE DOCTOR'],\n",
              "   'link': 'https://twitter.com/Miz_Ruraltarain/status/1711624844545032235',\n",
              "   'displayed_link': 'https://twitter.com › Miz_Ruraltarain › status'},\n",
              "  {'position': 56,\n",
              "   'title': 'Lesamodise - 𝘰𝘯𝘵𝘩𝘢𝘵𝘪𝘭𝘦',\n",
              "   'snippet': 'The Gauteng Department of Health has opened a criminal case against “fake Doctor” known as Dr Matthew Lani.',\n",
              "   'highlighs': ['fake Doctor', 'Dr Matthew'],\n",
              "   'link': 'https://twitter.com/lesamodise',\n",
              "   'displayed_link': 'https://twitter.com › lesamodise'},\n",
              "  {'position': 57,\n",
              "   'title': 'Khanya Smit (@Khanya__Light) / ...',\n",
              "   'snippet': 'STATEMENT: Department of Health in Gauteng has confirmed that fake doctor Matthew ... Dr Matthew on a live pretending to be at work and on the phone with another\\xa0...',\n",
              "   'highlighs': ['fake doctor', 'Dr Matthew'],\n",
              "   'link': 'https://twitter.com/Khanya__Light',\n",
              "   'displayed_link': 'https://twitter.com › Khanya__Light'},\n",
              "  {'position': 58,\n",
              "   'title': 'Dr. Vivek Murthy, U.S. Surgeon General',\n",
              "   'snippet': 'U.S. Surgeon General, Matthew McConaughey talk loneliness epidemic at ... Listen to this episode from Fake Doctors, Real Friends with Zach and Donald on Spotify.',\n",
              "   'highlighs': ['Matthew', 'Fake'],\n",
              "   'link': 'https://twitter.com/Surgeon_General',\n",
              "   'displayed_link': 'https://twitter.com › Surgeon_General'},\n",
              "  {'position': 59,\n",
              "   'title': '#Feb11baby❤💃🏽 Intombi yakoGodlwayo 💃🏽 💫 (@ ...',\n",
              "   'snippet': 'BREAKING: Charges against fake doctor Bongani Lani ( Dr Matthew ) dropped. “You can not be charged for lying. Lying is not an offence” says NPA spokesperson.',\n",
              "   'highlighs': ['fake doctor', 'Dr Matthew'],\n",
              "   'link': 'https://twitter.com/miss_tee09',\n",
              "   'displayed_link': 'https://twitter.com › miss_tee09'},\n",
              "  {'position': 60,\n",
              "   'title': 'Tasha (@TashaTashT) / X',\n",
              "   'snippet': '13 h. Another Fake Doctor... Atleast \"Dr\" Matthew was delivering the ARVs he was selling as weight loss pills... This one is just scamming people and taking\\xa0...',\n",
              "   'highlighs': ['Fake Doctor', 'Dr', 'Matthew'],\n",
              "   'link': 'https://twitter.com/tashatasht?lang=ca',\n",
              "   'displayed_link': 'https://twitter.com › tashatasht'},\n",
              "  {'position': 61,\n",
              "   'title': 'Menzie on X: \"Lol 😂😅😂😂😂 only in South Africa 😂🌍\" / X',\n",
              "   'snippet': 'BREAKING: Charges against fake doctor Bongani Lani ( Dr Matthew ) dropped. “You can not be charged for lying. Lying is not an offence” says\\xa0...',\n",
              "   'highlighs': ['fake doctor', 'Dr Matthew'],\n",
              "   'link': 'https://twitter.com/Menzie_bacaneer/status/1719309815149695184',\n",
              "   'displayed_link': 'https://twitter.com › Menzie_bacaneer › status'},\n",
              "  {'position': 62,\n",
              "   'title': 'Estee👑 on X: \"Are they serious?😳\" / X',\n",
              "   'snippet': 'BREAKING: Charges against fake doctor Bongani Lani ( Dr Matthew ) dropped. “You can not be charged for lying. Lying is not an offence” says\\xa0...',\n",
              "   'highlighs': ['fake doctor', 'Dr Matthew'],\n",
              "   'link': 'https://twitter.com/Esteendou/status/1719309791086911963',\n",
              "   'displayed_link': 'https://twitter.com › Esteendou › status'},\n",
              "  {'position': 63,\n",
              "   'title': 'KingJudo👑 ntwi (@Elmunaise_kau) / X',\n",
              "   'snippet': 'Ziyakhala Ke Manje. A fake Doctor, Dr Matthew Bongani Lani has been arrested by Security at Hospital where she went to shoot TikTok content in an attempt to\\xa0...',\n",
              "   'highlighs': ['fake Doctor', 'Dr Matthew'],\n",
              "   'link': 'https://twitter.com/Elmunaise_kau',\n",
              "   'displayed_link': 'https://twitter.com › Elmunaise_kau'},\n",
              "  {'position': 64,\n",
              "   'title': '\"South Africa is a movie.🤞🏾😭😭 #Drop #Matthew # ...',\n",
              "   'snippet': 'Nov 2, 2023 — BREAKING: Charges against fake doctor Bongani Lani ( Dr Matthew ) dropped. “You can not be charged for lying. Lying is not an offence” says\\xa0...',\n",
              "   'highlighs': ['fake doctor', 'Dr Matthew'],\n",
              "   'link': 'https://twitter.com/nickmojo09/status/1720002342202810511',\n",
              "   'displayed_link': 'https://twitter.com › nickmojo09 › status'},\n",
              "  {'position': 65,\n",
              "   'title': 'Nomsa N (@NomsaNgwenyama) / ...',\n",
              "   'snippet': 'Alleged fake doctor, Dr Matthew Lani says his \"colleagues\" didn\\'t wish him a Happy Birthday today because of all this noise on social media. Embedded video. 2:\\xa0...',\n",
              "   'highlighs': ['fake doctor', 'Dr Matthew'],\n",
              "   'link': 'https://twitter.com/NomsaNgwenyama',\n",
              "   'displayed_link': 'https://twitter.com › NomsaNgwenyama'},\n",
              "  {'position': 66,\n",
              "   'title': 'Londi Bee (@londi_me) / X',\n",
              "   'snippet': 'We need to be honest about Dr Matthew Lani,His one of those fake doctors with Fake Qualifications We seen many in South Africa and are not registered if his\\xa0...',\n",
              "   'highlighs': ['Dr Matthew', 'fake', 'Fake'],\n",
              "   'link': 'https://twitter.com/londi_me',\n",
              "   'displayed_link': 'https://twitter.com › londi_me'},\n",
              "  {'position': 67,\n",
              "   'title': 'MissReighFits. (@Reatleg17989235) / X',\n",
              "   'snippet': 'We need to be honest about Dr Matthew Lani,His one of those fake doctors with Fake Qualifications We seen many in South Africa and are not registered if his\\xa0...',\n",
              "   'highlighs': ['Dr Matthew', 'fake', 'Fake'],\n",
              "   'link': 'https://twitter.com/reatleg17989235',\n",
              "   'displayed_link': 'https://twitter.com › reatleg17989235'},\n",
              "  {'position': 68,\n",
              "   'title': 'B E N J I 🦓 (@DrBenjii) / X',\n",
              "   'snippet': 'BREAKING: Charges against fake doctor Bongani Lani ( Dr Matthew ) dropped. ... Dr Matteu is arrested what happened? 10. 68. 64.',\n",
              "   'highlighs': ['fake doctor', 'Dr Matthew'],\n",
              "   'link': 'https://twitter.com/DrBenjii',\n",
              "   'displayed_link': 'https://twitter.com › DrBenjii'},\n",
              "  {'position': 69,\n",
              "   'title': 'I am Lugi-K on X: \"South African scammer. Fake doctor\" / X',\n",
              "   'snippet': \"Fake doctor. Quote. Mr. Tshweu · @TshweuMoleme ... Matthew To Dr. SpongeBob Ke sono maar I hope he'll get it together maan, shem. Embedded video.\",\n",
              "   'highlighs': ['Fake doctor', 'Matthew', 'Dr'],\n",
              "   'link': 'https://twitter.com/LugileK/status/1718840904297988170',\n",
              "   'displayed_link': 'https://twitter.com › LugileK › status'},\n",
              "  {'position': 70,\n",
              "   'title': 'Lawfluencers on X',\n",
              "   'snippet': 'The legal troubles of bogus Dr Matthew have not ended! Gomolemo Bonolo Seleke the whistleblower who first exposed social media influencer as\\xa0...',\n",
              "   'highlighs': ['Dr Matthew'],\n",
              "   'link': 'https://twitter.com/Lawfluencers/status/1722228894135390323',\n",
              "   'displayed_link': 'https://twitter.com › Lawfluencers › status'},\n",
              "  {'position': 71,\n",
              "   'title': '#Feb11baby❤💃🏽 Intombi yakoGodlwayo 💃🏽 💫 on ...',\n",
              "   'snippet': 'BREAKING: Charges against fake doctor Bongani Lani ( Dr Matthew ) dropped. “You can not be charged for lying. Lying is not an offence” says\\xa0...',\n",
              "   'highlighs': ['fake doctor', 'Dr Matthew'],\n",
              "   'link': 'https://twitter.com/miss_tee09/status/1719334584498766183',\n",
              "   'displayed_link': 'https://twitter.com › miss_tee09 › status'},\n",
              "  {'position': 72,\n",
              "   'title': 'Mathuso Mosia (@MathusoMosia) ...',\n",
              "   'snippet': 'We need to be honest about Dr Matthew Lani,His one of those fake doctors with Fake Qualifications We seen many in South Africa and are not registered if his\\xa0...',\n",
              "   'highlighs': ['Dr Matthew', 'fake', 'Fake'],\n",
              "   'link': 'https://twitter.com/mathusomosia',\n",
              "   'displayed_link': 'https://twitter.com › mathusomosia'},\n",
              "  {'position': 73,\n",
              "   'title': 'KKwaNtloana - Khümö',\n",
              "   'snippet': \"I'm still shocked that Dr Matthew is a fraud. Image ... I know Dr Matthew is not the only fake doctor on these socials. I'll be\\xa0...\",\n",
              "   'highlighs': ['Dr Matthew', 'Dr Matthew', 'fake doctor'],\n",
              "   'link': 'https://twitter.com/kkwantloana',\n",
              "   'displayed_link': 'https://twitter.com › kkwantloana'},\n",
              "  {'position': 74,\n",
              "   'title': \"Ta' Beast\",\n",
              "   'snippet': 'BREAKING: Charges against fake doctor Bongani Lani ( Dr Matthew ) dropped. “You can not be charged for lying. Lying is not an offence” says\\xa0...',\n",
              "   'highlighs': ['fake doctor', 'Dr Matthew'],\n",
              "   'link': 'https://twitter.com/MphoLongwe/status/1719332365300854955',\n",
              "   'displayed_link': 'https://twitter.com › MphoLongwe › status'},\n",
              "  {'position': 75,\n",
              "   'title': 'sbo_mdunge - U M S A K A Z I',\n",
              "   'snippet': '... lying since 2020 hle . Thank you HPCSA for finally confirming he is a Fake Doctor! Dr Matthew Dr Zingelwa Weskoppies Chrisean Dr Owabe. Embedded video. 2:05. 21.',\n",
              "   'highlighs': ['Fake Doctor', 'Dr Matthew'],\n",
              "   'link': 'https://twitter.com/sbo_mdunge',\n",
              "   'displayed_link': 'https://twitter.com › sbo_mdunge'},\n",
              "  {'position': 76,\n",
              "   'title': 'Ntt_Sam - Ntate_Sam',\n",
              "   'snippet': 'BREAKING: Charges against fake doctor Bongani Lani ( Dr Matthew ) dropped. “You can not be charged for lying. Lying is not an offence” says NPA spokesperson.',\n",
              "   'highlighs': ['fake doctor', 'Dr Matthew'],\n",
              "   'link': 'https://twitter.com/ntt_sam?lang=ar-x-fm',\n",
              "   'displayed_link': 'https://twitter.com › ntt_sam'},\n",
              "  {'position': 77,\n",
              "   'title': 'IG:Joy-Zelda',\n",
              "   'snippet': '... Dr Matthew Lani Lawyer,He lied in ... fake not his,Yet Dr Matthew on Musa Khawula space still calling himself a doctor who studied medicine at',\n",
              "   'highlighs': ['Dr Matthew', 'fake', 'Dr Matthew', 'doctor'],\n",
              "   'link': 'https://twitter.com/joy_zelda/status/1725242094237708615',\n",
              "   'displayed_link': 'https://twitter.com › joy_zelda › status'},\n",
              "  {'position': 78,\n",
              "   'title': 'Matt Riley (@M_Riley93) / X',\n",
              "   'snippet': 'Doctor in Liverpool with interest in Tropical Medicine | Current MRes student ... The Fake recount going on in Georgia means nothing because they are not\\xa0...',\n",
              "   'highlighs': ['Doctor', 'Fake'],\n",
              "   'link': 'https://twitter.com/M_Riley93',\n",
              "   'displayed_link': 'https://twitter.com › M_Riley93'},\n",
              "  {'position': 79,\n",
              "   'title': 'Christina Maiketswane (@CMaiketswane) / ...',\n",
              "   'snippet': 'A fake Doctor, Dr Matthew Bongani Lani has been arrested by Security at Hospital where she went to shoot TikTok content in an attempt to convince her TikTok\\xa0...',\n",
              "   'highlighs': ['fake Doctor', 'Dr Matthew'],\n",
              "   'link': 'https://twitter.com/CMaiketswane',\n",
              "   'displayed_link': 'https://twitter.com › CMaiketswane'},\n",
              "  {'position': 80,\n",
              "   'title': 'BG Nhlapo',\n",
              "   'snippet': 'BREAKING: Charges against fake doctor Bongani Lani ( Dr Matthew ) dropped. “You can not be charged for lying. Lying is not an offence” says\\xa0...',\n",
              "   'highlighs': ['fake doctor', 'Dr Matthew'],\n",
              "   'link': 'https://twitter.com/iamdjmfundisi/status/1719314021537476884',\n",
              "   'displayed_link': 'https://twitter.com › iamdjmfundisi › status'},\n",
              "  {'position': 81,\n",
              "   'title': 'IG: t_skhalo (@SelloLevy) / X',\n",
              "   'snippet': 'Dr Matthew Lani obtained a restraining order in 2021 against a girl who claimed on social media that he was a fake doctor. So, to all the people out there\\xa0...',\n",
              "   'highlighs': ['Dr Matthew', 'fake doctor'],\n",
              "   'link': 'https://twitter.com/SelloLevy/',\n",
              "   'displayed_link': 'https://twitter.com › SelloLevy'},\n",
              "  {'position': 82,\n",
              "   'title': 'Moneri Mandla Phalane',\n",
              "   'snippet': 'BREAKING: Charges against fake doctor Bongani Lani ( Dr Matthew ) dropped. “You can not be charged for lying. Lying is not an offence” says NPA spokesperson.',\n",
              "   'highlighs': ['fake doctor', 'Dr Matthew'],\n",
              "   'link': 'https://mobile.twitter.com/MoneriMandla/status/1719348930008256619',\n",
              "   'displayed_link': 'https://mobile.twitter.com › MoneriMandla › status'},\n",
              "  {'position': 83,\n",
              "   'title': 'Adriaan Dell',\n",
              "   'snippet': 'come arrest your bogus doctor now. We are tired. We just want to see ... Dr Matthew claims that he back from leave and he is about to do his\\xa0...',\n",
              "   'highlighs': ['doctor', 'Dr Matthew'],\n",
              "   'link': 'https://twitter.com/attiedell11/status/1718177607710110148',\n",
              "   'displayed_link': 'https://twitter.com › attiedell11 › status'},\n",
              "  {'position': 84,\n",
              "   'title': 'Precious Mcjane (@precious_mcjane) / ...',\n",
              "   'snippet': 'STATEMENT: Department of Health in Gauteng has confirmed that fake doctor Matthew ... “Dr Matthew” was handed over to police. Image. 46. 203.',\n",
              "   'highlighs': ['fake doctor', 'Dr Matthew'],\n",
              "   'link': 'https://twitter.com/precious_mcjane',\n",
              "   'displayed_link': 'https://twitter.com › precious_mcjane'},\n",
              "  {'position': 85,\n",
              "   'title': 'Thoko Mahlangu (@ThokoMahlangu9) / X',\n",
              "   'snippet': 'Alleged fake doctor, Dr Matthew Lani says his \"colleagues\" didn\\'t wish him a Happy Birthday today because of all this noise on social media. Embedded video. 2:\\xa0...',\n",
              "   'highlighs': ['fake doctor', 'Dr Matthew'],\n",
              "   'link': 'https://twitter.com/ThokoMahlangu9',\n",
              "   'displayed_link': 'https://twitter.com › ThokoMahlangu9'},\n",
              "  {'position': 86,\n",
              "   'title': 'Melissa Olsen (@MelOlsen23) / X',\n",
              "   'snippet': 'A fake Doctor, Dr Matthew Bongani Lani has been arrested by Security at Hospital where she went to shoot TikTok content in an attempt to convince her TikTok\\xa0...',\n",
              "   'highlighs': ['fake Doctor', 'Dr Matthew'],\n",
              "   'link': 'https://twitter.com/MelOlsen23',\n",
              "   'displayed_link': 'https://twitter.com › MelOlsen23'},\n",
              "  {'position': 87,\n",
              "   'title': 'CautiousStraw - Cautious_Straw-VKR',\n",
              "   'snippet': '... lying since 2020 hle . Thank you HPCSA for finally confirming he is a Fake Doctor! Dr Matthew Dr Zingelwa Weskoppies Chrisean Dr Owabe. Embedded video. 2:05. 19.',\n",
              "   'highlighs': ['Fake Doctor', 'Dr Matthew'],\n",
              "   'link': 'https://twitter.com/CautiousStraw',\n",
              "   'displayed_link': 'https://twitter.com › CautiousStraw'},\n",
              "  {'position': 88,\n",
              "   'title': 'SAMMMY (@foreversammmy) / X',\n",
              "   'snippet': 'Alleged fake doctor, Dr Matthew Lani says his \"colleagues\" didn\\'t wish him a Happy Birthday today because of all this noise on social media. Embedded video. 2:\\xa0...',\n",
              "   'highlighs': ['fake doctor', 'Dr Matthew'],\n",
              "   'link': 'https://twitter.com/foreversammmy',\n",
              "   'displayed_link': 'https://twitter.com › foreversammmy'},\n",
              "  {'position': 89,\n",
              "   'title': 'Solomzi Thandubuntu',\n",
              "   'snippet': 'BREAKING: Charges against fake doctor Bongani Lani ( Dr Matthew ) dropped. “You can not be charged for lying. Lying is not an offence” says\\xa0...',\n",
              "   'highlighs': ['fake doctor', 'Dr Matthew'],\n",
              "   'link': 'https://twitter.com/Solphendukaa/status/1719317024101335473',\n",
              "   'displayed_link': 'https://twitter.com › Solphendukaa › status'},\n",
              "  {'position': 90,\n",
              "   'title': 'Blu_Jae7 - Butterfly_Kiss',\n",
              "   'snippet': 'As MC Hammer rose to fame, rappers dissed him because of his appearance and music. ... Another Fake Doctor... Atleast \"Dr\" Matthew was delivering the ARVs he was\\xa0...',\n",
              "   'highlighs': ['Fake Doctor', 'Dr', 'Matthew'],\n",
              "   'link': 'https://mobile.twitter.com/blu_jae7',\n",
              "   'displayed_link': 'https://mobile.twitter.com › blu_jae7'},\n",
              "  {'position': 91,\n",
              "   'title': 'Sandile (@Sandile19951) / X',\n",
              "   'snippet': '... HOSPITAL SECURITY APPREHENDS THE BOGUS DOCTOR (MATTHEW LANI). Image. Gauteng ... A fake Doctor, Dr Matthew Bongani Lani has been arrested by Security at Hospital\\xa0...',\n",
              "   'highlighs': ['fake Doctor', 'Dr Matthew'],\n",
              "   'link': 'https://mobile.twitter.com/sandile19951',\n",
              "   'displayed_link': 'https://mobile.twitter.com › sandile19951'},\n",
              "  {'position': 92,\n",
              "   'title': 'And now he has a big online following. W',\n",
              "   'snippet': 'BREAKING: Charges against fake doctor Bongani Lani ( Dr Matthew ) dropped. “You can not be charged for lying. Lying is not an offence” says\\xa0...',\n",
              "   'highlighs': ['fake doctor', 'Dr Matthew'],\n",
              "   'link': 'https://twitter.com/_nossan/status/1719316239099605004',\n",
              "   'displayed_link': 'https://twitter.com › _nossan › status'},\n",
              "  {'position': 93,\n",
              "   'title': 'Nick\\'s Pizza 🇿🇦 on X: \"Ya neh 😂\" / X',\n",
              "   'snippet': 'BREAKING: Charges against fake doctor Bongani Lani ( Dr Matthew ) dropped. “You can not be charged for lying. Lying is not an offence” says\\xa0...',\n",
              "   'highlighs': ['fake doctor', 'Dr Matthew'],\n",
              "   'link': 'https://twitter.com/agobakwe_m/status/1719326974391247254',\n",
              "   'displayed_link': 'https://twitter.com › agobakwe_m › status'},\n",
              "  {'position': 94,\n",
              "   'title': '\"It doesn\\'t matter the whole country knows he\\'s a fraud ...',\n",
              "   'snippet': 'BREAKING: Charges against fake doctor Bongani Lani ( Dr Matthew ) dropped. “You can not be charged for lying. Lying is not an offence” says\\xa0...',\n",
              "   'highlighs': ['fake doctor', 'Dr Matthew'],\n",
              "   'link': 'https://twitter.com/Dynamic1852/status/1719400599798604187',\n",
              "   'displayed_link': 'https://twitter.com › Dynamic1852 › status'},\n",
              "  {'position': 95,\n",
              "   'title': 'MissMonaheng - IAmTheGirlIThinkIAm',\n",
              "   'snippet': '... medical professional. Image ... On one of his videos he claims that he has been reported to HPCSA for being a fake Dr mainly because he…',\n",
              "   'highlighs': ['fake Dr'],\n",
              "   'link': 'https://twitter.com/MissMonaheng',\n",
              "   'displayed_link': 'https://twitter.com › MissMonaheng'},\n",
              "  {'position': 96,\n",
              "   'title': 'Ronny Msibi (@MsibiRonny) / X',\n",
              "   'snippet': 'A fake Doctor, Dr Matthew Bongani Lani has been arrested by Security at Hospital where she went to shoot TikTok content in an attempt to convince her TikTok\\xa0...',\n",
              "   'highlighs': ['fake Doctor', 'Dr Matthew'],\n",
              "   'link': 'https://twitter.com/MsibiRonny',\n",
              "   'displayed_link': 'https://twitter.com › MsibiRonny'},\n",
              "  {'position': 97,\n",
              "   'title': 'Mom & Daughter on X: \"Iyo bangani iyo\" / X',\n",
              "   'snippet': 'WATCH: Dr. Matthew Bongani Lani, a fake doctor, was allegedly arrested by security at the hospital when he went to record content for TikTok\\xa0...',\n",
              "   'highlighs': ['Dr', 'Matthew', 'fake doctor'],\n",
              "   'link': 'https://twitter.com/Poppy34911663/status/1718824356174778556',\n",
              "   'displayed_link': 'https://twitter.com › Poppy34911663 › status'},\n",
              "  {'position': 98,\n",
              "   'title': \"Man's NOT Barry Roux\",\n",
              "   'snippet': \"Dr Mathew Lani or whatever his name is asked me to tell you guys that he's a real doctor. Whatever you saw or heard about him is fake.\",\n",
              "   'highlighs': ['Dr', 'doctor', 'fake'],\n",
              "   'link': 'https://twitter.com/AdvoBarryRoux/status/1727190207878103213',\n",
              "   'displayed_link': 'https://twitter.com › AdvoBarryRoux › status'},\n",
              "  {'position': 99,\n",
              "   'title': 'The Black Chinese👩\\u200d🎓 (@tumisangsefike2) / X',\n",
              "   'snippet': 'That it took private security to do something about the fake doctor “Dr Matthew” is appalling. SAPS and this govt knew about this boy and where he is and\\xa0...',\n",
              "   'highlighs': ['fake doctor', 'Dr Matthew'],\n",
              "   'link': 'https://twitter.com/tumisangsefike2',\n",
              "   'displayed_link': 'https://twitter.com › tumisangsefike2'}],\n",
              " 'pagination': {'load_more_url': 'http://api.scraperapi.com/?url=https%3A%2F%2Fwww.google.com%2Fsearch%3Fq%3Dsite%3Atwitter.com%2BDr%2BMatthew%2Bfake%2Bdoctor%26num%3D100%26sca_esv%3D585325649%26gl%3DUS%26ei%3DUpBiZcLbO96HhbIPisi0gAs%26start%3D100%26sa%3DN&autoparse=true',\n",
              "  'pages_count': 1}}"
            ]
          },
          "execution_count": 4,
          "metadata": {},
          "output_type": "execute_result"
        }
      ],
      "source": [
        "data"
      ]
    },
    {
      "cell_type": "code",
      "execution_count": 5,
      "metadata": {
        "colab": {
          "base_uri": "https://localhost:8080/"
        },
        "id": "CrTHuLXguZju",
        "outputId": "be3a4e2a-2e75-49dd-9d48-988ff338efba"
      },
      "outputs": [
        {
          "data": {
            "text/plain": [
              "dict_keys(['search_information', 'organic_results', 'pagination'])"
            ]
          },
          "execution_count": 5,
          "metadata": {},
          "output_type": "execute_result"
        }
      ],
      "source": [
        "data.keys()"
      ]
    },
    {
      "cell_type": "code",
      "execution_count": 6,
      "metadata": {
        "colab": {
          "base_uri": "https://localhost:8080/"
        },
        "id": "Wvl9Jepgum-x",
        "outputId": "2a5bd0b6-b515-45c4-b737-ea2e36d76a1f"
      },
      "outputs": [
        {
          "data": {
            "text/plain": [
              "[{'position': 0,\n",
              "  'title': 'The Instigator',\n",
              "  'snippet': 'Another Fake Doctor... Atleast \"Dr\" Matthew was delivering the ARVs he was selling as weight loss pills... This one is just scamming people\\xa0...',\n",
              "  'highlighs': ['Fake Doctor', 'Dr', 'Matthew'],\n",
              "  'link': 'https://twitter.com/Am_Blujay/status/1726664788921708875',\n",
              "  'displayed_link': 'https://twitter.com › Am_Blujay › status'},\n",
              " {'position': 1,\n",
              "  'title': \"Fake Doctor, Dr Matthew claim he's at work doing night shift.\",\n",
              "  'snippet': \"Fake Doctor, Dr Matthew claim he's at work doing night shift.\",\n",
              "  'highlighs': ['Fake Doctor', 'Dr Matthew'],\n",
              "  'link': 'https://twitter.com/MDNnewss/status/1718016267947217345',\n",
              "  'displayed_link': 'https://twitter.com › MDNnewss › status'},\n",
              " {'position': 2,\n",
              "  'title': \"Man's NOT Barry Roux\",\n",
              "  'snippet': 'A fake Doctor, Dr Matthew Bongani Lani has been arrested by Security at Hospital where she went to shoot TikTok content in an attempt to\\xa0...',\n",
              "  'highlighs': ['fake Doctor', 'Dr Matthew'],\n",
              "  'link': 'https://twitter.com/AdvoBarryRoux/status/1718708975099650195',\n",
              "  'displayed_link': 'https://twitter.com › AdvoBarryRoux › status'},\n",
              " {'position': 3,\n",
              "  'title': 'Fake Doctor, Dr Matthew Lani has been arrested..',\n",
              "  'snippet': 'Fake Doctor, Dr Matthew Lani has been arrested..',\n",
              "  'highlighs': ['Fake Doctor', 'Dr Matthew'],\n",
              "  'link': 'https://twitter.com/MDNnewss/status/1718713857881801002',\n",
              "  'displayed_link': 'https://twitter.com › MDNnewss › status'},\n",
              " {'position': 4,\n",
              "  'title': 'Hermaine M',\n",
              "  'snippet': 'It ended in tears for fake Doctor, Dr Matthew Lani.',\n",
              "  'highlighs': ['fake Doctor', 'Dr Matthew'],\n",
              "  'link': 'https://twitter.com/HermaineM/status/1718857873910899030',\n",
              "  'displayed_link': 'https://twitter.com › HermaineM › status'},\n",
              " {'position': 5,\n",
              "  'title': 'We need to be honest about Dr Matthew Lani,His one ...',\n",
              "  'snippet': 'We need to be honest about Dr Matthew Lani,His one of those fake doctors with Fake Qualifications We seen many in South Africa and are not\\xa0...',\n",
              "  'highlighs': ['Dr Matthew', 'fake', 'Fake'],\n",
              "  'link': 'https://twitter.com/joy_zelda/status/1711139803033428401',\n",
              "  'displayed_link': 'https://twitter.com › joy_zelda › status'},\n",
              " {'position': 6,\n",
              "  'title': 'the truth panther',\n",
              "  'snippet': 'Matthew Bongani Lani, a fake doctor, was allegedly arrested by security at the hospital when he went to record content for TikTok in an effort\\xa0...',\n",
              "  'highlighs': ['Matthew', 'fake doctor'],\n",
              "  'link': 'https://twitter.com/TheTruthPanther/status/1718714130813554954',\n",
              "  'displayed_link': 'https://twitter.com › TheTruthPanther › status'},\n",
              " {'position': 7,\n",
              "  'title': 'the truth panther',\n",
              "  'snippet': 'WATCH: Fake doctor \"Dr.\" Matthew Lani was released from the Johannesburg magistrate\\'s court on Tuesday without having to enter the dock\\xa0...',\n",
              "  'highlighs': ['Fake doctor', 'Dr', 'Matthew'],\n",
              "  'link': 'https://twitter.com/TheTruthPanther/status/1719331262534472066',\n",
              "  'displayed_link': 'https://twitter.com › TheTruthPanther › status'},\n",
              " {'position': 8,\n",
              "  'title': 'The Progress',\n",
              "  'snippet': '... Dr Matthew being fake as being serious. A person posing as a doctor is a danger and someone might be unlucky at get \"treated\" by this guy. 8\\xa0...',\n",
              "  'highlighs': ['Dr Matthew', 'fake', 'doctor'],\n",
              "  'link': 'https://twitter.com/TheProgress_/status/1725431016729260332',\n",
              "  'displayed_link': 'https://twitter.com › TheProgress_ › status'},\n",
              " {'position': 9,\n",
              "  'title': \"Fake doctor, Dr Matthew Lani still maintain that he's a ...\",\n",
              "  'snippet': \"Fake doctor, Dr Matthew Lani still maintain that he's a qualified doctor and registered with HPCSA. Video credit @jozitube.\",\n",
              "  'highlighs': ['Fake doctor', 'Dr Matthew'],\n",
              "  'link': 'https://twitter.com/MDNnewss/status/1711740356981592238',\n",
              "  'displayed_link': 'https://twitter.com › MDNnewss › status'},\n",
              " {'position': 10,\n",
              "  'title': 'Kasi Broadcasting News',\n",
              "  'snippet': \"Dr Matthew's Arrested for Fake Doctor ..... #MakeAfricaGreat. Embedded video. 0:18. 7:33 PM · Oct 29, 2023.\",\n",
              "  'highlighs': [\"Dr Matthew's\", 'Fake Doctor'],\n",
              "  'link': 'https://twitter.com/kasibcnews/status/1718712760614125748',\n",
              "  'displayed_link': 'https://twitter.com › kasibcnews › status'},\n",
              " {'position': 11,\n",
              "  'title': 'December 2022. “Dr Matthew Lani” claims he was ...',\n",
              "  'snippet': 'December 2022. “Dr Matthew Lani” claims he was contacted by HPCSA after a complaint was lodged of him being a fake doctor.',\n",
              "  'highlighs': ['Dr Matthew', 'fake doctor'],\n",
              "  'link': 'https://twitter.com/odirileram/status/1711316645745176775',\n",
              "  'displayed_link': 'https://twitter.com › odirileram › status'},\n",
              " {'position': 12,\n",
              "  'title': 'Alleged fake doctor Dr Matthew Lani address HPCSA and ...',\n",
              "  'snippet': 'Alleged fake doctor Dr Matthew Lani address HPCSA and Wits University.',\n",
              "  'highlighs': ['fake doctor Dr Matthew'],\n",
              "  'link': 'https://twitter.com/MDNnewss/status/1711403897045094854',\n",
              "  'displayed_link': 'https://twitter.com › MDNnewss › status'},\n",
              " {'position': 13,\n",
              "  'title': 'Ms HellenR (@Ms_HellenR) / X',\n",
              "  'snippet': 'STATEMENT: Department of Health in Gauteng has confirmed that fake doctor Matthew ... Dr Matthew attended ABET school. -His real name is Bongani - He was Born in\\xa0...',\n",
              "  'highlighs': ['fake doctor', 'Dr Matthew'],\n",
              "  'link': 'https://twitter.com/ms_hellenr',\n",
              "  'displayed_link': 'https://twitter.com › ms_hellenr'},\n",
              " {'position': 14,\n",
              "  'title': 'Judaeda Blanco',\n",
              "  'snippet': 'Dr Matthew Lani charges withdrawn today, Fake Doctor with 9 lives. Embedded video. 2:09. 12:34 PM · Oct 31, 2023.',\n",
              "  'highlighs': ['Dr Matthew', 'Fake Doctor'],\n",
              "  'link': 'https://twitter.com/Judaeda3/status/1719332024652091582',\n",
              "  'displayed_link': 'https://twitter.com › Judaeda3 › status'},\n",
              " {'position': 15,\n",
              "  'title': '\"surely there\\'s fraud? and impersonating a ...',\n",
              "  'snippet': 'BREAKING: Charges against fake doctor Bongani Lani ( Dr Matthew ) dropped. “You can not be charged for lying. Lying is not an offence” says\\xa0...',\n",
              "  'highlighs': ['fake doctor', 'Dr Matthew'],\n",
              "  'link': 'https://twitter.com/foyinog/status/1719353085091303682',\n",
              "  'displayed_link': 'https://twitter.com › foyinog › status'},\n",
              " {'position': 16,\n",
              "  'title': 'MDN NEWS',\n",
              "  'snippet': 'Fake doctor \"Dr Matthew Lani\" has a \"direct iMessage\" with the Department of Health that the Department does not recognize or acknowledge.',\n",
              "  'highlighs': ['Fake doctor', 'Dr Matthew'],\n",
              "  'link': 'https://twitter.com/MDNnewss/status/1714942721612300642',\n",
              "  'displayed_link': 'https://twitter.com › MDNnewss › status'},\n",
              " {'position': 17,\n",
              "  'title': '\"I know Dr Matthew is not the only fake doctor on ...',\n",
              "  'snippet': \"I know Dr Matthew is not the only fake doctor on these socials. I'll be dropping names at 12.\",\n",
              "  'highlighs': ['Dr Matthew', 'fake doctor'],\n",
              "  'link': 'https://twitter.com/Thembisile_Q/status/1711304211462291720',\n",
              "  'displayed_link': 'https://twitter.com › Thembisile_Q › status'},\n",
              " {'position': 18,\n",
              "  'title': 'Lerato Pillay',\n",
              "  'snippet': 'STATEMENT: Department of Health in Gauteng has confirmed that fake doctor Matthew Lani was apprehended by security personnel at Helen Joseph\\xa0...',\n",
              "  'highlighs': ['fake doctor Matthew'],\n",
              "  'link': 'https://twitter.com/nyebe_official/status/1718781625054474300',\n",
              "  'displayed_link': 'https://twitter.com › nyebe_official › status'},\n",
              " {'position': 19,\n",
              "  'title': 'This is for content as he claimed? He is mentally disabled',\n",
              "  'snippet': 'The charges against fake Doctor Dr Matthew has been dropped #DrMatthew #SpringboksRWC #HPCSA #Thisbodyworksforme #Omuhle #Rigged\\xa0...',\n",
              "  'highlighs': ['fake Doctor Dr Matthew'],\n",
              "  'link': 'https://twitter.com/MabundaHlayisek/status/1719373964500148573',\n",
              "  'displayed_link': 'https://twitter.com › MabundaHlayisek › status'},\n",
              " {'position': 20,\n",
              "  'title': \"Melo's Mommy\",\n",
              "  'snippet': 'BREAKING: Charges against fake doctor Bongani Lani ( Dr Matthew ) dropped. “You can not be charged for lying. Lying is not an offence” says\\xa0...',\n",
              "  'highlighs': ['fake doctor', 'Dr Matthew'],\n",
              "  'link': 'https://twitter.com/LeratoMannya/status/1719308926112375275',\n",
              "  'displayed_link': 'https://twitter.com › LeratoMannya › status'},\n",
              " {'position': 21,\n",
              "  'title': 'ChrisExcel',\n",
              "  'snippet': \"... 't fit in their doctor standards But didn't hesitate to believed a fake Dr Matthew bcz he is rainbonbow nation   yellow bone.\",\n",
              "  'highlighs': ['doctor', 'fake Dr Matthew'],\n",
              "  'link': 'https://twitter.com/ChrisExcel102/status/1711304769669660843',\n",
              "  'displayed_link': 'https://twitter.com › ChrisExcel102 › status'},\n",
              " {'position': 22,\n",
              "  'title': '\"The story goes that in 2021, Gomolemo\\'s Bonolo Seleke ...',\n",
              "  'snippet': \"The story goes that in 2021, Gomolemo's Bonolo Seleke reported Matthew as a fake doctor at Christiana Clinic, where they both worked.\",\n",
              "  'highlighs': ['Matthew', 'fake doctor'],\n",
              "  'link': 'https://twitter.com/desireemav/status/1711972466564682137',\n",
              "  'displayed_link': 'https://twitter.com › desireemav › status'},\n",
              " {'position': 23,\n",
              "  'title': 'MDN NEWS',\n",
              "  'snippet': 'Alleged fake doctor, Dr Matthew Lani says his \"colleagues\" didn\\'t wish him a Happy Birthday today because of all this noise on social media.',\n",
              "  'highlighs': ['fake doctor', 'Dr Matthew'],\n",
              "  'link': 'https://twitter.com/MDNnewss/status/1711433070417482195',\n",
              "  'displayed_link': 'https://twitter.com › MDNnewss › status'},\n",
              " {'position': 24,\n",
              "  'title': 'Commander Of Armies',\n",
              "  'snippet': 'The legal troubles of bogus Dr Matthew have not ended! Gomolemo Bonolo Seleke the whistleblower who first exposed social media influencer as\\xa0...',\n",
              "  'highlighs': ['Dr Matthew'],\n",
              "  'link': 'https://twitter.com/NgoveniSbu/status/1722169731296248074',\n",
              "  'displayed_link': 'https://twitter.com › NgoveniSbu › status'},\n",
              " {'position': 25,\n",
              "  'title': 'Nthabiseng Simphiwe',\n",
              "  'snippet': 'The charges against fake Doctor Dr Matthew has been dropped #DrMatthew #SpringboksRWC #HPCSA #Thisbodyworksforme #Omuhle #Rigged\\xa0...',\n",
              "  'highlighs': ['fake Doctor Dr Matthew'],\n",
              "  'link': 'https://twitter.com/NthabisengSimp2/status/1719323537817616466',\n",
              "  'displayed_link': 'https://twitter.com › NthabisengSimp2 › status'},\n",
              " {'position': 26,\n",
              "  'title': 'Tiktok banned the account of Dr Matthew, the fake doctor ...',\n",
              "  'snippet': 'Tiktok banned the account of Dr Matthew, the fake doctor while he was still trying to lie some more.',\n",
              "  'highlighs': ['Dr Matthew', 'fake doctor'],\n",
              "  'link': 'https://twitter.com/MDNnewss/status/1711682725948633250',\n",
              "  'displayed_link': 'https://twitter.com › MDNnewss › status'},\n",
              " {'position': 27,\n",
              "  'title': 'Zintle Zimbini',\n",
              "  'snippet': \"Of course government will try to make an example out of bogus Dr Matthew, who's mentally ill when there are tens of thousands fake doctors from\\xa0...\",\n",
              "  'highlighs': ['Dr Matthew', 'fake'],\n",
              "  'link': 'https://twitter.com/ZinhleMamfengu/status/1719206924871184634',\n",
              "  'displayed_link': 'https://twitter.com › ZinhleMamfengu › status'},\n",
              " {'position': 28,\n",
              "  'title': 'EWN Reporter',\n",
              "  'snippet': '[JUST IN] The Gauteng Department of Health has opened a criminal case against “bogus Doctor” known as Dr Matthew Lani.',\n",
              "  'highlighs': ['Doctor', 'Dr Matthew'],\n",
              "  'link': 'https://twitter.com/ewnreporter/status/1711435854961393971',\n",
              "  'displayed_link': 'https://twitter.com › ewnreporter › status'},\n",
              " {'position': 29,\n",
              "  'title': 'Aphelele Jody',\n",
              "  'snippet': \"... not on the system?? He's operating like his client Dr Matthew Fake lawyer defending a fake doctor. Image. 4:06 PM · Oct 30, 2023. ·. 21.3K. Views.\",\n",
              "  'highlighs': ['Dr Matthew', 'fake doctor'],\n",
              "  'link': 'https://twitter.com/ApheleleJody/status/1719022850210717836',\n",
              "  'displayed_link': 'https://twitter.com › ApheleleJody › status'},\n",
              " {'position': 30,\n",
              "  'title': '\"Fair. Wished Prospectors employers m applied the same ...',\n",
              "  'snippet': 'BREAKING: Charges against fake doctor Bongani Lani ( Dr Matthew ) dropped. “You can not be charged for lying. Lying is not an offence” says\\xa0...',\n",
              "  'highlighs': ['fake doctor', 'Dr Matthew'],\n",
              "  'link': 'https://twitter.com/HlogiMoleXx/status/1719309518805271000',\n",
              "  'displayed_link': 'https://twitter.com › HlogiMoleXx › status'},\n",
              " {'position': 31,\n",
              "  'title': '\"Someone said “ we need a fake lawyer to represent a fake ...',\n",
              "  'snippet': 'Someone said “ we need a fake lawyer to represent a fake doctor” Dr Matthew.',\n",
              "  'highlighs': ['fake doctor', 'Dr Matthew'],\n",
              "  'link': 'https://twitter.com/SdakwaSeNkosi_/status/1718892123691307213',\n",
              "  'displayed_link': 'https://twitter.com › SdakwaSeNkosi_ › status'},\n",
              " {'position': 32,\n",
              "  'title': 'MDN NEWS',\n",
              "  'snippet': '... fake after claiming he was bought a new Ford RANGER by fans.. Dr Matthew Lani who is known to be an HIV activist and a Medical doctor is now\\xa0...',\n",
              "  'highlighs': ['fake', 'Dr Matthew', 'doctor'],\n",
              "  'link': 'https://twitter.com/MDNnewss/status/1711402133977788582',\n",
              "  'displayed_link': 'https://twitter.com › MDNnewss › status'},\n",
              " {'position': 33,\n",
              "  'title': 'Hermaine M',\n",
              "  'snippet': 'Ziyakhala The Gauteng Department of Health has opened a criminal case against “fake Doctor” known as Dr Matthew Lani.',\n",
              "  'highlighs': ['fake Doctor', 'Dr Matthew'],\n",
              "  'link': 'https://twitter.com/HermaineM/status/1711463188695294090',\n",
              "  'displayed_link': 'https://twitter.com › HermaineM › status'},\n",
              " {'position': 34,\n",
              "  'title': 'Kwena Molekwa',\n",
              "  'snippet': \"... fake doctors they've FAILED to deal...there's so many Doctor Matthews! Dr Matthew must replace Collen Malatji, honestly this government is\\xa0...\",\n",
              "  'highlighs': ['fake', 'Doctor', 'Dr Matthew'],\n",
              "  'link': 'https://twitter.com/Miz_Ruraltarain/status/1711433668898496998',\n",
              "  'displayed_link': 'https://twitter.com › Miz_Ruraltarain › status'},\n",
              " {'position': 35,\n",
              "  'title': 'MagzSikhosana - NaSikhosana',\n",
              "  'snippet': 'BREAKING: Charges against fake doctor Bongani Lani ( Dr Matthew ) dropped. ... MEDIA STATEMENT || HELEN JOSEPH HOSPITAL SECURITY APPREHENDS THE BOGUS DOCTOR (\\xa0...',\n",
              "  'highlighs': ['fake doctor', 'Dr Matthew'],\n",
              "  'link': 'https://twitter.com/magzsikhosana',\n",
              "  'displayed_link': 'https://twitter.com › magzsikhosana'},\n",
              " {'position': 36,\n",
              "  'title': 'Karabo Mokgoko',\n",
              "  'snippet': 'BREAKING: Charges against fake doctor Bongani Lani ( Dr Matthew ) dropped. “You can not be charged for lying. Lying is not an offence” says\\xa0...',\n",
              "  'highlighs': ['fake doctor', 'Dr Matthew'],\n",
              "  'link': 'https://twitter.com/Karabo_Mokgoko/status/1719314350844862917',\n",
              "  'displayed_link': 'https://twitter.com › Karabo_Mokgoko › status'},\n",
              " {'position': 37,\n",
              "  'title': 'Bona Magazine',\n",
              "  'snippet': '... after finding out that the famous TikTok medical doctor Dr Matthew Bongani Lani could be a fake doctor. bona.co.za. 9:30 AM · Oct 15, 2023. ·. 372. Views.',\n",
              "  'highlighs': ['Dr Matthew', 'fake doctor'],\n",
              "  'link': 'https://twitter.com/BonaMag/status/1713487377883164747',\n",
              "  'displayed_link': 'https://twitter.com › BonaMag › status'},\n",
              " {'position': 38,\n",
              "  'title': 'Ladylondie',\n",
              "  'snippet': 'Thank you HPCSA for finally confirming he is a Fake Doctor! Dr Matthew Dr Zingelwa Weskoppies Chrisean Dr Owabe. Embedded video. 2:05. Image.',\n",
              "  'highlighs': ['Fake Doctor', 'Dr Matthew'],\n",
              "  'link': 'https://twitter.com/Ladylondie1/status/1711401420694454541',\n",
              "  'displayed_link': 'https://twitter.com › Ladylondie1 › status'},\n",
              " {'position': 39,\n",
              "  'title': 'IG:Joy-Zelda',\n",
              "  'snippet': '... Dr Matthew as a fake doctor working in Helen Joseph Hospital and reported it Gauteng Dept of Health she was not taken serious and was fired\\xa0...',\n",
              "  'highlighs': ['Dr Matthew', 'fake doctor'],\n",
              "  'link': 'https://twitter.com/joy_zelda/status/1718880245086929007',\n",
              "  'displayed_link': 'https://twitter.com › joy_zelda › status'},\n",
              " {'position': 40,\n",
              "  'title': '𝓑𝓾𝓽𝓲 𝓛𝓮𝓫𝓸 🏴\\u200d☠️ (@_butilebo) / ...',\n",
              "  'snippet': 'That it took private security to do something about the fake doctor “Dr Matthew” is appalling. SAPS and this govt knew about this boy and where he is and\\xa0...',\n",
              "  'highlighs': ['fake doctor', 'Dr Matthew'],\n",
              "  'link': 'https://twitter.com/_butilebo',\n",
              "  'displayed_link': 'https://twitter.com › _butilebo'},\n",
              " {'position': 41,\n",
              "  'title': 'Thapelo Masubelele (@ThapeloInno) ...',\n",
              "  'snippet': 'she the one who exposed Dr Matthew Lani of stealing Sanele Zingelwa identity and been a fake doctor not registered at HPCSA without her he still would be\\xa0...',\n",
              "  'highlighs': ['Dr Matthew', 'fake doctor'],\n",
              "  'link': 'https://twitter.com/ThapeloInno',\n",
              "  'displayed_link': 'https://twitter.com › ThapeloInno'},\n",
              " {'position': 42,\n",
              "  'title': 'Kat |The great war',\n",
              "  'snippet': 'Dr Matthew Lani obtained a restraining order in 2021 against a girl who claimed on social media that he was a fake doctor.',\n",
              "  'highlighs': ['Dr Matthew', 'fake doctor'],\n",
              "  'link': 'https://twitter.com/TaylorErasEra/status/1711823796791845169',\n",
              "  'displayed_link': 'https://twitter.com › TaylorErasEra › status'},\n",
              " {'position': 43,\n",
              "  'title': \"Loool I called it. I did say his lawyer's arguments would ...\",\n",
              "  'snippet': 'BREAKING: Charges against fake doctor Bongani Lani ( Dr Matthew ) dropped. “You can not be charged for lying. Lying is not an offence” says\\xa0...',\n",
              "  'highlighs': ['fake doctor', 'Dr Matthew'],\n",
              "  'link': 'https://twitter.com/Nampree/status/1719309661998920108',\n",
              "  'displayed_link': 'https://twitter.com › Nampree › status'},\n",
              " {'position': 44,\n",
              "  'title': 'The Instigator',\n",
              "  'snippet': 'There is a story of a fake South African Doctor being dragged right now on the internet who goes by the name Dr Matthew Lani.',\n",
              "  'highlighs': ['fake', 'Doctor', 'Dr Matthew'],\n",
              "  'link': 'https://twitter.com/Am_Blujay/status/1711650911079059782',\n",
              "  'displayed_link': 'https://twitter.com › Am_Blujay › status'},\n",
              " {'position': 45,\n",
              "  'title': 'MDN NEWS',\n",
              "  'snippet': 'Abdulkader Elyas who is the councilor of DA in Cape Town is suspected to be another fake doctor. #MDNnews Dr Matthew.',\n",
              "  'highlighs': ['fake doctor', 'Dr Matthew'],\n",
              "  'link': 'https://twitter.com/MDNnewss/status/1718914370208465171',\n",
              "  'displayed_link': 'https://twitter.com › MDNnewss › status'},\n",
              " {'position': 46,\n",
              "  'title': 'Mr Rabbit',\n",
              "  'snippet': 'Does it mean anyone can now pretend to be a Doctor ? Charges against fake doctor Bongani Lani ( Dr Matthew ) dropped.',\n",
              "  'highlighs': ['fake doctor', 'Dr Matthew'],\n",
              "  'link': 'https://twitter.com/Rabbitking007/status/1719625879666503777',\n",
              "  'displayed_link': 'https://twitter.com › Rabbitking007 › status'},\n",
              " {'position': 47,\n",
              "  'title': 'Daily Sun',\n",
              "  'snippet': \"WATCH: Fong kong Dr Matthew Lani's a free man. @SNL24sa · #DrMatthewLani #FongKong #Fake #Doctor #TikTok · Matthew Lani leaving the Joburg Magistrates Court\\xa0...\",\n",
              "  'highlighs': ['Dr Matthew', 'Fake', 'Doctor'],\n",
              "  'link': 'https://twitter.com/dailysunsa/status/1719440352942367161',\n",
              "  'displayed_link': 'https://twitter.com › dailysunsa › status'},\n",
              " {'position': 48,\n",
              "  'title': 'Remongwe RemDeè (@Remongwe_RemDee) / X',\n",
              "  'snippet': 'We need to be honest about Dr Matthew Lani,His one of those fake doctors with Fake Qualifications We seen many in South Africa and are not registered if his\\xa0...',\n",
              "  'highlighs': ['Dr Matthew', 'fake', 'Fake'],\n",
              "  'link': 'https://twitter.com/Remongwe_RemDee',\n",
              "  'displayed_link': 'https://twitter.com › Remongwe_RemDee'},\n",
              " {'position': 49,\n",
              "  'title': 'Melisha🍃 (@melisha_p7) / X',\n",
              "  'snippet': 'BREAKING: Charges against fake doctor Bongani Lani ( Dr Matthew ) dropped. “You can not be charged for lying. Lying is not an offence” says NPA\\xa0...',\n",
              "  'highlighs': ['fake doctor', 'Dr Matthew'],\n",
              "  'link': 'https://twitter.com/melisha_p7',\n",
              "  'displayed_link': 'https://twitter.com › melisha_p7'},\n",
              " {'position': 50,\n",
              "  'title': 'DR MO (@Mosadotcom) / X',\n",
              "  'snippet': 'MEDIA STATEMENT || HELEN JOSEPH HOSPITAL SECURITY APPREHENDS THE BOGUS DOCTOR (MATTHEW LANI) ... NO RECORD OF MATRIC CERTIFICATE FOR BOGUS DR MATTHEW LANI\\xa0...',\n",
              "  'highlighs': ['DOCTOR', 'DR MATTHEW'],\n",
              "  'link': 'https://twitter.com/Mosadotcom',\n",
              "  'displayed_link': 'https://twitter.com › Mosadotcom'},\n",
              " {'position': 51,\n",
              "  'title': 'Dr Nobubele Shozi (@DrNobubeleShozi) / ...',\n",
              "  'snippet': 'We need to be honest about Dr Matthew Lani,His one of those fake doctors with Fake Qualifications We seen many in South Africa and are not registered if his\\xa0...',\n",
              "  'highlighs': ['Dr Matthew', 'fake', 'Fake'],\n",
              "  'link': 'https://twitter.com/DrNobubeleShozi',\n",
              "  'displayed_link': 'https://twitter.com › DrNobubeleShozi'},\n",
              " {'position': 52,\n",
              "  'title': 'MDN NEWS',\n",
              "  'snippet': 'Alleged fake doctor, Dr Matthew Lani says his \"colleagues\" didn\\'t wish him a Happy Birthday today because of all this noise on social media.',\n",
              "  'highlighs': ['fake doctor', 'Dr Matthew'],\n",
              "  'link': 'https://twitter.com/MDNnewss/status/1711433070417482195?lang=ar',\n",
              "  'displayed_link': 'https://twitter.com › MDNnewss › status'},\n",
              " {'position': 53,\n",
              "  'title': 'Aphelele Jody',\n",
              "  'snippet': \"Jokes aside there are so many fake doctors on media, they buy doctor's ... Dr Matthew but this is the reality.\",\n",
              "  'highlighs': ['fake', \"doctor's\", 'Dr Matthew'],\n",
              "  'link': 'https://twitter.com/ApheleleJody/status/1711297626346242371',\n",
              "  'displayed_link': 'https://twitter.com › ApheleleJody › status'},\n",
              " {'position': 54,\n",
              "  'title': 'Hector. on X: \"😂 But Fraud is an offence though.\" / X',\n",
              "  'snippet': 'BREAKING: Charges against fake doctor Bongani Lani ( Dr Matthew ) dropped. “You can not be charged for lying. Lying is not an offence” says\\xa0...',\n",
              "  'highlighs': ['fake doctor', 'Dr Matthew'],\n",
              "  'link': 'https://twitter.com/HexHeizzy/status/1719313203262296346',\n",
              "  'displayed_link': 'https://twitter.com › HexHeizzy › status'},\n",
              " {'position': 55,\n",
              "  'title': 'Kwena Molekwa',\n",
              "  'snippet': '... fake health-care practitioners like Dr Matthew Lani? A whole Hellen Joseph and medi clinic hired a FAKE DOCTOR...maybe it will explain why\\xa0...',\n",
              "  'highlighs': ['Dr Matthew', 'FAKE DOCTOR'],\n",
              "  'link': 'https://twitter.com/Miz_Ruraltarain/status/1711624844545032235',\n",
              "  'displayed_link': 'https://twitter.com › Miz_Ruraltarain › status'},\n",
              " {'position': 56,\n",
              "  'title': 'Lesamodise - 𝘰𝘯𝘵𝘩𝘢𝘵𝘪𝘭𝘦',\n",
              "  'snippet': 'The Gauteng Department of Health has opened a criminal case against “fake Doctor” known as Dr Matthew Lani.',\n",
              "  'highlighs': ['fake Doctor', 'Dr Matthew'],\n",
              "  'link': 'https://twitter.com/lesamodise',\n",
              "  'displayed_link': 'https://twitter.com › lesamodise'},\n",
              " {'position': 57,\n",
              "  'title': 'Khanya Smit (@Khanya__Light) / ...',\n",
              "  'snippet': 'STATEMENT: Department of Health in Gauteng has confirmed that fake doctor Matthew ... Dr Matthew on a live pretending to be at work and on the phone with another\\xa0...',\n",
              "  'highlighs': ['fake doctor', 'Dr Matthew'],\n",
              "  'link': 'https://twitter.com/Khanya__Light',\n",
              "  'displayed_link': 'https://twitter.com › Khanya__Light'},\n",
              " {'position': 58,\n",
              "  'title': 'Dr. Vivek Murthy, U.S. Surgeon General',\n",
              "  'snippet': 'U.S. Surgeon General, Matthew McConaughey talk loneliness epidemic at ... Listen to this episode from Fake Doctors, Real Friends with Zach and Donald on Spotify.',\n",
              "  'highlighs': ['Matthew', 'Fake'],\n",
              "  'link': 'https://twitter.com/Surgeon_General',\n",
              "  'displayed_link': 'https://twitter.com › Surgeon_General'},\n",
              " {'position': 59,\n",
              "  'title': '#Feb11baby❤💃🏽 Intombi yakoGodlwayo 💃🏽 💫 (@ ...',\n",
              "  'snippet': 'BREAKING: Charges against fake doctor Bongani Lani ( Dr Matthew ) dropped. “You can not be charged for lying. Lying is not an offence” says NPA spokesperson.',\n",
              "  'highlighs': ['fake doctor', 'Dr Matthew'],\n",
              "  'link': 'https://twitter.com/miss_tee09',\n",
              "  'displayed_link': 'https://twitter.com › miss_tee09'},\n",
              " {'position': 60,\n",
              "  'title': 'Tasha (@TashaTashT) / X',\n",
              "  'snippet': '13 h. Another Fake Doctor... Atleast \"Dr\" Matthew was delivering the ARVs he was selling as weight loss pills... This one is just scamming people and taking\\xa0...',\n",
              "  'highlighs': ['Fake Doctor', 'Dr', 'Matthew'],\n",
              "  'link': 'https://twitter.com/tashatasht?lang=ca',\n",
              "  'displayed_link': 'https://twitter.com › tashatasht'},\n",
              " {'position': 61,\n",
              "  'title': 'Menzie on X: \"Lol 😂😅😂😂😂 only in South Africa 😂🌍\" / X',\n",
              "  'snippet': 'BREAKING: Charges against fake doctor Bongani Lani ( Dr Matthew ) dropped. “You can not be charged for lying. Lying is not an offence” says\\xa0...',\n",
              "  'highlighs': ['fake doctor', 'Dr Matthew'],\n",
              "  'link': 'https://twitter.com/Menzie_bacaneer/status/1719309815149695184',\n",
              "  'displayed_link': 'https://twitter.com › Menzie_bacaneer › status'},\n",
              " {'position': 62,\n",
              "  'title': 'Estee👑 on X: \"Are they serious?😳\" / X',\n",
              "  'snippet': 'BREAKING: Charges against fake doctor Bongani Lani ( Dr Matthew ) dropped. “You can not be charged for lying. Lying is not an offence” says\\xa0...',\n",
              "  'highlighs': ['fake doctor', 'Dr Matthew'],\n",
              "  'link': 'https://twitter.com/Esteendou/status/1719309791086911963',\n",
              "  'displayed_link': 'https://twitter.com › Esteendou › status'},\n",
              " {'position': 63,\n",
              "  'title': 'KingJudo👑 ntwi (@Elmunaise_kau) / X',\n",
              "  'snippet': 'Ziyakhala Ke Manje. A fake Doctor, Dr Matthew Bongani Lani has been arrested by Security at Hospital where she went to shoot TikTok content in an attempt to\\xa0...',\n",
              "  'highlighs': ['fake Doctor', 'Dr Matthew'],\n",
              "  'link': 'https://twitter.com/Elmunaise_kau',\n",
              "  'displayed_link': 'https://twitter.com › Elmunaise_kau'},\n",
              " {'position': 64,\n",
              "  'title': '\"South Africa is a movie.🤞🏾😭😭 #Drop #Matthew # ...',\n",
              "  'snippet': 'Nov 2, 2023 — BREAKING: Charges against fake doctor Bongani Lani ( Dr Matthew ) dropped. “You can not be charged for lying. Lying is not an offence” says\\xa0...',\n",
              "  'highlighs': ['fake doctor', 'Dr Matthew'],\n",
              "  'link': 'https://twitter.com/nickmojo09/status/1720002342202810511',\n",
              "  'displayed_link': 'https://twitter.com › nickmojo09 › status'},\n",
              " {'position': 65,\n",
              "  'title': 'Nomsa N (@NomsaNgwenyama) / ...',\n",
              "  'snippet': 'Alleged fake doctor, Dr Matthew Lani says his \"colleagues\" didn\\'t wish him a Happy Birthday today because of all this noise on social media. Embedded video. 2:\\xa0...',\n",
              "  'highlighs': ['fake doctor', 'Dr Matthew'],\n",
              "  'link': 'https://twitter.com/NomsaNgwenyama',\n",
              "  'displayed_link': 'https://twitter.com › NomsaNgwenyama'},\n",
              " {'position': 66,\n",
              "  'title': 'Londi Bee (@londi_me) / X',\n",
              "  'snippet': 'We need to be honest about Dr Matthew Lani,His one of those fake doctors with Fake Qualifications We seen many in South Africa and are not registered if his\\xa0...',\n",
              "  'highlighs': ['Dr Matthew', 'fake', 'Fake'],\n",
              "  'link': 'https://twitter.com/londi_me',\n",
              "  'displayed_link': 'https://twitter.com › londi_me'},\n",
              " {'position': 67,\n",
              "  'title': 'MissReighFits. (@Reatleg17989235) / X',\n",
              "  'snippet': 'We need to be honest about Dr Matthew Lani,His one of those fake doctors with Fake Qualifications We seen many in South Africa and are not registered if his\\xa0...',\n",
              "  'highlighs': ['Dr Matthew', 'fake', 'Fake'],\n",
              "  'link': 'https://twitter.com/reatleg17989235',\n",
              "  'displayed_link': 'https://twitter.com › reatleg17989235'},\n",
              " {'position': 68,\n",
              "  'title': 'B E N J I 🦓 (@DrBenjii) / X',\n",
              "  'snippet': 'BREAKING: Charges against fake doctor Bongani Lani ( Dr Matthew ) dropped. ... Dr Matteu is arrested what happened? 10. 68. 64.',\n",
              "  'highlighs': ['fake doctor', 'Dr Matthew'],\n",
              "  'link': 'https://twitter.com/DrBenjii',\n",
              "  'displayed_link': 'https://twitter.com › DrBenjii'},\n",
              " {'position': 69,\n",
              "  'title': 'I am Lugi-K on X: \"South African scammer. Fake doctor\" / X',\n",
              "  'snippet': \"Fake doctor. Quote. Mr. Tshweu · @TshweuMoleme ... Matthew To Dr. SpongeBob Ke sono maar I hope he'll get it together maan, shem. Embedded video.\",\n",
              "  'highlighs': ['Fake doctor', 'Matthew', 'Dr'],\n",
              "  'link': 'https://twitter.com/LugileK/status/1718840904297988170',\n",
              "  'displayed_link': 'https://twitter.com › LugileK › status'},\n",
              " {'position': 70,\n",
              "  'title': 'Lawfluencers on X',\n",
              "  'snippet': 'The legal troubles of bogus Dr Matthew have not ended! Gomolemo Bonolo Seleke the whistleblower who first exposed social media influencer as\\xa0...',\n",
              "  'highlighs': ['Dr Matthew'],\n",
              "  'link': 'https://twitter.com/Lawfluencers/status/1722228894135390323',\n",
              "  'displayed_link': 'https://twitter.com › Lawfluencers › status'},\n",
              " {'position': 71,\n",
              "  'title': '#Feb11baby❤💃🏽 Intombi yakoGodlwayo 💃🏽 💫 on ...',\n",
              "  'snippet': 'BREAKING: Charges against fake doctor Bongani Lani ( Dr Matthew ) dropped. “You can not be charged for lying. Lying is not an offence” says\\xa0...',\n",
              "  'highlighs': ['fake doctor', 'Dr Matthew'],\n",
              "  'link': 'https://twitter.com/miss_tee09/status/1719334584498766183',\n",
              "  'displayed_link': 'https://twitter.com › miss_tee09 › status'},\n",
              " {'position': 72,\n",
              "  'title': 'Mathuso Mosia (@MathusoMosia) ...',\n",
              "  'snippet': 'We need to be honest about Dr Matthew Lani,His one of those fake doctors with Fake Qualifications We seen many in South Africa and are not registered if his\\xa0...',\n",
              "  'highlighs': ['Dr Matthew', 'fake', 'Fake'],\n",
              "  'link': 'https://twitter.com/mathusomosia',\n",
              "  'displayed_link': 'https://twitter.com › mathusomosia'},\n",
              " {'position': 73,\n",
              "  'title': 'KKwaNtloana - Khümö',\n",
              "  'snippet': \"I'm still shocked that Dr Matthew is a fraud. Image ... I know Dr Matthew is not the only fake doctor on these socials. I'll be\\xa0...\",\n",
              "  'highlighs': ['Dr Matthew', 'Dr Matthew', 'fake doctor'],\n",
              "  'link': 'https://twitter.com/kkwantloana',\n",
              "  'displayed_link': 'https://twitter.com › kkwantloana'},\n",
              " {'position': 74,\n",
              "  'title': \"Ta' Beast\",\n",
              "  'snippet': 'BREAKING: Charges against fake doctor Bongani Lani ( Dr Matthew ) dropped. “You can not be charged for lying. Lying is not an offence” says\\xa0...',\n",
              "  'highlighs': ['fake doctor', 'Dr Matthew'],\n",
              "  'link': 'https://twitter.com/MphoLongwe/status/1719332365300854955',\n",
              "  'displayed_link': 'https://twitter.com › MphoLongwe › status'},\n",
              " {'position': 75,\n",
              "  'title': 'sbo_mdunge - U M S A K A Z I',\n",
              "  'snippet': '... lying since 2020 hle . Thank you HPCSA for finally confirming he is a Fake Doctor! Dr Matthew Dr Zingelwa Weskoppies Chrisean Dr Owabe. Embedded video. 2:05. 21.',\n",
              "  'highlighs': ['Fake Doctor', 'Dr Matthew'],\n",
              "  'link': 'https://twitter.com/sbo_mdunge',\n",
              "  'displayed_link': 'https://twitter.com › sbo_mdunge'},\n",
              " {'position': 76,\n",
              "  'title': 'Ntt_Sam - Ntate_Sam',\n",
              "  'snippet': 'BREAKING: Charges against fake doctor Bongani Lani ( Dr Matthew ) dropped. “You can not be charged for lying. Lying is not an offence” says NPA spokesperson.',\n",
              "  'highlighs': ['fake doctor', 'Dr Matthew'],\n",
              "  'link': 'https://twitter.com/ntt_sam?lang=ar-x-fm',\n",
              "  'displayed_link': 'https://twitter.com › ntt_sam'},\n",
              " {'position': 77,\n",
              "  'title': 'IG:Joy-Zelda',\n",
              "  'snippet': '... Dr Matthew Lani Lawyer,He lied in ... fake not his,Yet Dr Matthew on Musa Khawula space still calling himself a doctor who studied medicine at',\n",
              "  'highlighs': ['Dr Matthew', 'fake', 'Dr Matthew', 'doctor'],\n",
              "  'link': 'https://twitter.com/joy_zelda/status/1725242094237708615',\n",
              "  'displayed_link': 'https://twitter.com › joy_zelda › status'},\n",
              " {'position': 78,\n",
              "  'title': 'Matt Riley (@M_Riley93) / X',\n",
              "  'snippet': 'Doctor in Liverpool with interest in Tropical Medicine | Current MRes student ... The Fake recount going on in Georgia means nothing because they are not\\xa0...',\n",
              "  'highlighs': ['Doctor', 'Fake'],\n",
              "  'link': 'https://twitter.com/M_Riley93',\n",
              "  'displayed_link': 'https://twitter.com › M_Riley93'},\n",
              " {'position': 79,\n",
              "  'title': 'Christina Maiketswane (@CMaiketswane) / ...',\n",
              "  'snippet': 'A fake Doctor, Dr Matthew Bongani Lani has been arrested by Security at Hospital where she went to shoot TikTok content in an attempt to convince her TikTok\\xa0...',\n",
              "  'highlighs': ['fake Doctor', 'Dr Matthew'],\n",
              "  'link': 'https://twitter.com/CMaiketswane',\n",
              "  'displayed_link': 'https://twitter.com › CMaiketswane'},\n",
              " {'position': 80,\n",
              "  'title': 'BG Nhlapo',\n",
              "  'snippet': 'BREAKING: Charges against fake doctor Bongani Lani ( Dr Matthew ) dropped. “You can not be charged for lying. Lying is not an offence” says\\xa0...',\n",
              "  'highlighs': ['fake doctor', 'Dr Matthew'],\n",
              "  'link': 'https://twitter.com/iamdjmfundisi/status/1719314021537476884',\n",
              "  'displayed_link': 'https://twitter.com › iamdjmfundisi › status'},\n",
              " {'position': 81,\n",
              "  'title': 'IG: t_skhalo (@SelloLevy) / X',\n",
              "  'snippet': 'Dr Matthew Lani obtained a restraining order in 2021 against a girl who claimed on social media that he was a fake doctor. So, to all the people out there\\xa0...',\n",
              "  'highlighs': ['Dr Matthew', 'fake doctor'],\n",
              "  'link': 'https://twitter.com/SelloLevy/',\n",
              "  'displayed_link': 'https://twitter.com › SelloLevy'},\n",
              " {'position': 82,\n",
              "  'title': 'Moneri Mandla Phalane',\n",
              "  'snippet': 'BREAKING: Charges against fake doctor Bongani Lani ( Dr Matthew ) dropped. “You can not be charged for lying. Lying is not an offence” says NPA spokesperson.',\n",
              "  'highlighs': ['fake doctor', 'Dr Matthew'],\n",
              "  'link': 'https://mobile.twitter.com/MoneriMandla/status/1719348930008256619',\n",
              "  'displayed_link': 'https://mobile.twitter.com › MoneriMandla › status'},\n",
              " {'position': 83,\n",
              "  'title': 'Adriaan Dell',\n",
              "  'snippet': 'come arrest your bogus doctor now. We are tired. We just want to see ... Dr Matthew claims that he back from leave and he is about to do his\\xa0...',\n",
              "  'highlighs': ['doctor', 'Dr Matthew'],\n",
              "  'link': 'https://twitter.com/attiedell11/status/1718177607710110148',\n",
              "  'displayed_link': 'https://twitter.com › attiedell11 › status'},\n",
              " {'position': 84,\n",
              "  'title': 'Precious Mcjane (@precious_mcjane) / ...',\n",
              "  'snippet': 'STATEMENT: Department of Health in Gauteng has confirmed that fake doctor Matthew ... “Dr Matthew” was handed over to police. Image. 46. 203.',\n",
              "  'highlighs': ['fake doctor', 'Dr Matthew'],\n",
              "  'link': 'https://twitter.com/precious_mcjane',\n",
              "  'displayed_link': 'https://twitter.com › precious_mcjane'},\n",
              " {'position': 85,\n",
              "  'title': 'Thoko Mahlangu (@ThokoMahlangu9) / X',\n",
              "  'snippet': 'Alleged fake doctor, Dr Matthew Lani says his \"colleagues\" didn\\'t wish him a Happy Birthday today because of all this noise on social media. Embedded video. 2:\\xa0...',\n",
              "  'highlighs': ['fake doctor', 'Dr Matthew'],\n",
              "  'link': 'https://twitter.com/ThokoMahlangu9',\n",
              "  'displayed_link': 'https://twitter.com › ThokoMahlangu9'},\n",
              " {'position': 86,\n",
              "  'title': 'Melissa Olsen (@MelOlsen23) / X',\n",
              "  'snippet': 'A fake Doctor, Dr Matthew Bongani Lani has been arrested by Security at Hospital where she went to shoot TikTok content in an attempt to convince her TikTok\\xa0...',\n",
              "  'highlighs': ['fake Doctor', 'Dr Matthew'],\n",
              "  'link': 'https://twitter.com/MelOlsen23',\n",
              "  'displayed_link': 'https://twitter.com › MelOlsen23'},\n",
              " {'position': 87,\n",
              "  'title': 'CautiousStraw - Cautious_Straw-VKR',\n",
              "  'snippet': '... lying since 2020 hle . Thank you HPCSA for finally confirming he is a Fake Doctor! Dr Matthew Dr Zingelwa Weskoppies Chrisean Dr Owabe. Embedded video. 2:05. 19.',\n",
              "  'highlighs': ['Fake Doctor', 'Dr Matthew'],\n",
              "  'link': 'https://twitter.com/CautiousStraw',\n",
              "  'displayed_link': 'https://twitter.com › CautiousStraw'},\n",
              " {'position': 88,\n",
              "  'title': 'SAMMMY (@foreversammmy) / X',\n",
              "  'snippet': 'Alleged fake doctor, Dr Matthew Lani says his \"colleagues\" didn\\'t wish him a Happy Birthday today because of all this noise on social media. Embedded video. 2:\\xa0...',\n",
              "  'highlighs': ['fake doctor', 'Dr Matthew'],\n",
              "  'link': 'https://twitter.com/foreversammmy',\n",
              "  'displayed_link': 'https://twitter.com › foreversammmy'},\n",
              " {'position': 89,\n",
              "  'title': 'Solomzi Thandubuntu',\n",
              "  'snippet': 'BREAKING: Charges against fake doctor Bongani Lani ( Dr Matthew ) dropped. “You can not be charged for lying. Lying is not an offence” says\\xa0...',\n",
              "  'highlighs': ['fake doctor', 'Dr Matthew'],\n",
              "  'link': 'https://twitter.com/Solphendukaa/status/1719317024101335473',\n",
              "  'displayed_link': 'https://twitter.com › Solphendukaa › status'},\n",
              " {'position': 90,\n",
              "  'title': 'Blu_Jae7 - Butterfly_Kiss',\n",
              "  'snippet': 'As MC Hammer rose to fame, rappers dissed him because of his appearance and music. ... Another Fake Doctor... Atleast \"Dr\" Matthew was delivering the ARVs he was\\xa0...',\n",
              "  'highlighs': ['Fake Doctor', 'Dr', 'Matthew'],\n",
              "  'link': 'https://mobile.twitter.com/blu_jae7',\n",
              "  'displayed_link': 'https://mobile.twitter.com › blu_jae7'},\n",
              " {'position': 91,\n",
              "  'title': 'Sandile (@Sandile19951) / X',\n",
              "  'snippet': '... HOSPITAL SECURITY APPREHENDS THE BOGUS DOCTOR (MATTHEW LANI). Image. Gauteng ... A fake Doctor, Dr Matthew Bongani Lani has been arrested by Security at Hospital\\xa0...',\n",
              "  'highlighs': ['fake Doctor', 'Dr Matthew'],\n",
              "  'link': 'https://mobile.twitter.com/sandile19951',\n",
              "  'displayed_link': 'https://mobile.twitter.com › sandile19951'},\n",
              " {'position': 92,\n",
              "  'title': 'And now he has a big online following. W',\n",
              "  'snippet': 'BREAKING: Charges against fake doctor Bongani Lani ( Dr Matthew ) dropped. “You can not be charged for lying. Lying is not an offence” says\\xa0...',\n",
              "  'highlighs': ['fake doctor', 'Dr Matthew'],\n",
              "  'link': 'https://twitter.com/_nossan/status/1719316239099605004',\n",
              "  'displayed_link': 'https://twitter.com › _nossan › status'},\n",
              " {'position': 93,\n",
              "  'title': 'Nick\\'s Pizza 🇿🇦 on X: \"Ya neh 😂\" / X',\n",
              "  'snippet': 'BREAKING: Charges against fake doctor Bongani Lani ( Dr Matthew ) dropped. “You can not be charged for lying. Lying is not an offence” says\\xa0...',\n",
              "  'highlighs': ['fake doctor', 'Dr Matthew'],\n",
              "  'link': 'https://twitter.com/agobakwe_m/status/1719326974391247254',\n",
              "  'displayed_link': 'https://twitter.com › agobakwe_m › status'},\n",
              " {'position': 94,\n",
              "  'title': '\"It doesn\\'t matter the whole country knows he\\'s a fraud ...',\n",
              "  'snippet': 'BREAKING: Charges against fake doctor Bongani Lani ( Dr Matthew ) dropped. “You can not be charged for lying. Lying is not an offence” says\\xa0...',\n",
              "  'highlighs': ['fake doctor', 'Dr Matthew'],\n",
              "  'link': 'https://twitter.com/Dynamic1852/status/1719400599798604187',\n",
              "  'displayed_link': 'https://twitter.com › Dynamic1852 › status'},\n",
              " {'position': 95,\n",
              "  'title': 'MissMonaheng - IAmTheGirlIThinkIAm',\n",
              "  'snippet': '... medical professional. Image ... On one of his videos he claims that he has been reported to HPCSA for being a fake Dr mainly because he…',\n",
              "  'highlighs': ['fake Dr'],\n",
              "  'link': 'https://twitter.com/MissMonaheng',\n",
              "  'displayed_link': 'https://twitter.com › MissMonaheng'},\n",
              " {'position': 96,\n",
              "  'title': 'Ronny Msibi (@MsibiRonny) / X',\n",
              "  'snippet': 'A fake Doctor, Dr Matthew Bongani Lani has been arrested by Security at Hospital where she went to shoot TikTok content in an attempt to convince her TikTok\\xa0...',\n",
              "  'highlighs': ['fake Doctor', 'Dr Matthew'],\n",
              "  'link': 'https://twitter.com/MsibiRonny',\n",
              "  'displayed_link': 'https://twitter.com › MsibiRonny'},\n",
              " {'position': 97,\n",
              "  'title': 'Mom & Daughter on X: \"Iyo bangani iyo\" / X',\n",
              "  'snippet': 'WATCH: Dr. Matthew Bongani Lani, a fake doctor, was allegedly arrested by security at the hospital when he went to record content for TikTok\\xa0...',\n",
              "  'highlighs': ['Dr', 'Matthew', 'fake doctor'],\n",
              "  'link': 'https://twitter.com/Poppy34911663/status/1718824356174778556',\n",
              "  'displayed_link': 'https://twitter.com › Poppy34911663 › status'},\n",
              " {'position': 98,\n",
              "  'title': \"Man's NOT Barry Roux\",\n",
              "  'snippet': \"Dr Mathew Lani or whatever his name is asked me to tell you guys that he's a real doctor. Whatever you saw or heard about him is fake.\",\n",
              "  'highlighs': ['Dr', 'doctor', 'fake'],\n",
              "  'link': 'https://twitter.com/AdvoBarryRoux/status/1727190207878103213',\n",
              "  'displayed_link': 'https://twitter.com › AdvoBarryRoux › status'},\n",
              " {'position': 99,\n",
              "  'title': 'The Black Chinese👩\\u200d🎓 (@tumisangsefike2) / X',\n",
              "  'snippet': 'That it took private security to do something about the fake doctor “Dr Matthew” is appalling. SAPS and this govt knew about this boy and where he is and\\xa0...',\n",
              "  'highlighs': ['fake doctor', 'Dr Matthew'],\n",
              "  'link': 'https://twitter.com/tumisangsefike2',\n",
              "  'displayed_link': 'https://twitter.com › tumisangsefike2'}]"
            ]
          },
          "execution_count": 6,
          "metadata": {},
          "output_type": "execute_result"
        }
      ],
      "source": [
        "data['organic_results']"
      ]
    },
    {
      "cell_type": "code",
      "execution_count": 7,
      "metadata": {
        "colab": {
          "base_uri": "https://localhost:8080/"
        },
        "id": "UJ17TfuAvB_u",
        "outputId": "6451e158-7b53-4ecf-918b-fbae002a991f"
      },
      "outputs": [
        {
          "data": {
            "text/plain": [
              "list"
            ]
          },
          "execution_count": 7,
          "metadata": {},
          "output_type": "execute_result"
        }
      ],
      "source": [
        "type(data['organic_results'])"
      ]
    },
    {
      "cell_type": "code",
      "execution_count": 8,
      "metadata": {
        "colab": {
          "base_uri": "https://localhost:8080/",
          "height": 35
        },
        "id": "2PeC72JKvGki",
        "outputId": "2d48f2d6-d8b3-4e63-8116-4f14ad03d3f1"
      },
      "outputs": [
        {
          "data": {
            "text/plain": [
              "'It ended in tears for fake Doctor, Dr Matthew Lani.'"
            ]
          },
          "execution_count": 8,
          "metadata": {},
          "output_type": "execute_result"
        }
      ],
      "source": [
        "data['organic_results'][4]['snippet']"
      ]
    },
    {
      "cell_type": "code",
      "execution_count": 9,
      "metadata": {
        "id": "0LPHv4X5vNFH"
      },
      "outputs": [],
      "source": [
        "for dat in data['organic_results']:\n",
        "    mat_data.append(dat['snippet'])\n"
      ]
    },
    {
      "cell_type": "code",
      "execution_count": 10,
      "metadata": {
        "id": "fEW4rupdxQef"
      },
      "outputs": [],
      "source": [
        "df=pd.DataFrame(mat_data,columns=[\"Tweets\"])"
      ]
    },
    {
      "cell_type": "code",
      "execution_count": 11,
      "metadata": {
        "colab": {
          "base_uri": "https://localhost:8080/",
          "height": 424
        },
        "id": "mNHN0I7cxrl8",
        "outputId": "500a4d43-5077-4024-df6b-521072b72b16"
      },
      "outputs": [
        {
          "data": {
            "text/html": [
              "<div>\n",
              "<style scoped>\n",
              "    .dataframe tbody tr th:only-of-type {\n",
              "        vertical-align: middle;\n",
              "    }\n",
              "\n",
              "    .dataframe tbody tr th {\n",
              "        vertical-align: top;\n",
              "    }\n",
              "\n",
              "    .dataframe thead th {\n",
              "        text-align: right;\n",
              "    }\n",
              "</style>\n",
              "<table border=\"1\" class=\"dataframe\">\n",
              "  <thead>\n",
              "    <tr style=\"text-align: right;\">\n",
              "      <th></th>\n",
              "      <th>Tweets</th>\n",
              "    </tr>\n",
              "  </thead>\n",
              "  <tbody>\n",
              "    <tr>\n",
              "      <th>0</th>\n",
              "      <td>Another Fake Doctor... Atleast \"Dr\" Matthew wa...</td>\n",
              "    </tr>\n",
              "    <tr>\n",
              "      <th>1</th>\n",
              "      <td>Fake Doctor, Dr Matthew claim he's at work doi...</td>\n",
              "    </tr>\n",
              "    <tr>\n",
              "      <th>2</th>\n",
              "      <td>A fake Doctor, Dr Matthew Bongani Lani has bee...</td>\n",
              "    </tr>\n",
              "    <tr>\n",
              "      <th>3</th>\n",
              "      <td>Fake Doctor, Dr Matthew Lani has been arrested..</td>\n",
              "    </tr>\n",
              "    <tr>\n",
              "      <th>4</th>\n",
              "      <td>It ended in tears for fake Doctor, Dr Matthew ...</td>\n",
              "    </tr>\n",
              "    <tr>\n",
              "      <th>...</th>\n",
              "      <td>...</td>\n",
              "    </tr>\n",
              "    <tr>\n",
              "      <th>95</th>\n",
              "      <td>... medical professional. Image ... On one of ...</td>\n",
              "    </tr>\n",
              "    <tr>\n",
              "      <th>96</th>\n",
              "      <td>A fake Doctor, Dr Matthew Bongani Lani has bee...</td>\n",
              "    </tr>\n",
              "    <tr>\n",
              "      <th>97</th>\n",
              "      <td>WATCH: Dr. Matthew Bongani Lani, a fake doctor...</td>\n",
              "    </tr>\n",
              "    <tr>\n",
              "      <th>98</th>\n",
              "      <td>Dr Mathew Lani or whatever his name is asked m...</td>\n",
              "    </tr>\n",
              "    <tr>\n",
              "      <th>99</th>\n",
              "      <td>That it took private security to do something ...</td>\n",
              "    </tr>\n",
              "  </tbody>\n",
              "</table>\n",
              "<p>100 rows × 1 columns</p>\n",
              "</div>"
            ],
            "text/plain": [
              "                                               Tweets\n",
              "0   Another Fake Doctor... Atleast \"Dr\" Matthew wa...\n",
              "1   Fake Doctor, Dr Matthew claim he's at work doi...\n",
              "2   A fake Doctor, Dr Matthew Bongani Lani has bee...\n",
              "3    Fake Doctor, Dr Matthew Lani has been arrested..\n",
              "4   It ended in tears for fake Doctor, Dr Matthew ...\n",
              "..                                                ...\n",
              "95  ... medical professional. Image ... On one of ...\n",
              "96  A fake Doctor, Dr Matthew Bongani Lani has bee...\n",
              "97  WATCH: Dr. Matthew Bongani Lani, a fake doctor...\n",
              "98  Dr Mathew Lani or whatever his name is asked m...\n",
              "99  That it took private security to do something ...\n",
              "\n",
              "[100 rows x 1 columns]"
            ]
          },
          "execution_count": 11,
          "metadata": {},
          "output_type": "execute_result"
        }
      ],
      "source": [
        "df"
      ]
    },
    {
      "cell_type": "code",
      "execution_count": 12,
      "metadata": {
        "id": "2_YC_axryFZK"
      },
      "outputs": [
        {
          "name": "stdout",
          "output_type": "stream",
          "text": [
            "<bound method NDFrame.head of                                                Tweets\n",
            "0   Another Fake Doctor... Atleast \"Dr\" Matthew wa...\n",
            "1   A fake Doctor, Dr Matthew Bongani Lani has bee...\n",
            "2    Fake Doctor, Dr Matthew Lani has been arrested..\n",
            "3   Fake Doctor, Dr Matthew claim he's at work doi...\n",
            "4   It ended in tears for fake Doctor, Dr Matthew ...\n",
            "..                                                ...\n",
            "95  BREAKING: Charges against fake doctor Bongani ...\n",
            "96  ... medical professional. Image ... On one of ...\n",
            "97  A fake Doctor, Dr Matthew Bongani Lani has bee...\n",
            "98  Dr Mathew Lani or whatever his name is asked m...\n",
            "99  That it took private security to do something ...\n",
            "\n",
            "[100 rows x 1 columns]>\n"
          ]
        }
      ],
      "source": [
        "import pandas as pd\n",
        "import requests\n",
        "mat_data=[]\n",
        "#Define the api payload to get the data we want\n",
        "payload={\n",
        "    'api_key':'f1db5231bec21e7705b5ba1fbf209d72',\n",
        "    'query':\"Dr Matthew fake doctor\",\n",
        "    'num':'100'\n",
        "}\n",
        "response=requests.get(\n",
        "    'https://api.scraperapi.com/structured/twitter/search',\n",
        "    params=payload\n",
        ")\n",
        "data=response.json()\n",
        "\n",
        "#Extract the tweets\n",
        "for dat in data['organic_results']:\n",
        "    mat_data.append(dat['snippet'])\n",
        "\n",
        "#Create a dataframe for the tweets\n",
        "df=pd.DataFrame(mat_data,columns=[\"Tweets\"])\n",
        "print(df.head)"
      ]
    },
    {
      "cell_type": "code",
      "execution_count": 13,
      "metadata": {},
      "outputs": [
        {
          "data": {
            "text/html": [
              "<div>\n",
              "<style scoped>\n",
              "    .dataframe tbody tr th:only-of-type {\n",
              "        vertical-align: middle;\n",
              "    }\n",
              "\n",
              "    .dataframe tbody tr th {\n",
              "        vertical-align: top;\n",
              "    }\n",
              "\n",
              "    .dataframe thead th {\n",
              "        text-align: right;\n",
              "    }\n",
              "</style>\n",
              "<table border=\"1\" class=\"dataframe\">\n",
              "  <thead>\n",
              "    <tr style=\"text-align: right;\">\n",
              "      <th></th>\n",
              "      <th>Tweets</th>\n",
              "    </tr>\n",
              "  </thead>\n",
              "  <tbody>\n",
              "    <tr>\n",
              "      <th>0</th>\n",
              "      <td>Another Fake Doctor... Atleast \"Dr\" Matthew wa...</td>\n",
              "    </tr>\n",
              "    <tr>\n",
              "      <th>1</th>\n",
              "      <td>A fake Doctor, Dr Matthew Bongani Lani has bee...</td>\n",
              "    </tr>\n",
              "    <tr>\n",
              "      <th>2</th>\n",
              "      <td>Fake Doctor, Dr Matthew Lani has been arrested..</td>\n",
              "    </tr>\n",
              "    <tr>\n",
              "      <th>3</th>\n",
              "      <td>Fake Doctor, Dr Matthew claim he's at work doi...</td>\n",
              "    </tr>\n",
              "    <tr>\n",
              "      <th>4</th>\n",
              "      <td>It ended in tears for fake Doctor, Dr Matthew ...</td>\n",
              "    </tr>\n",
              "    <tr>\n",
              "      <th>...</th>\n",
              "      <td>...</td>\n",
              "    </tr>\n",
              "    <tr>\n",
              "      <th>95</th>\n",
              "      <td>BREAKING: Charges against fake doctor Bongani ...</td>\n",
              "    </tr>\n",
              "    <tr>\n",
              "      <th>96</th>\n",
              "      <td>... medical professional. Image ... On one of ...</td>\n",
              "    </tr>\n",
              "    <tr>\n",
              "      <th>97</th>\n",
              "      <td>A fake Doctor, Dr Matthew Bongani Lani has bee...</td>\n",
              "    </tr>\n",
              "    <tr>\n",
              "      <th>98</th>\n",
              "      <td>Dr Mathew Lani or whatever his name is asked m...</td>\n",
              "    </tr>\n",
              "    <tr>\n",
              "      <th>99</th>\n",
              "      <td>That it took private security to do something ...</td>\n",
              "    </tr>\n",
              "  </tbody>\n",
              "</table>\n",
              "<p>100 rows × 1 columns</p>\n",
              "</div>"
            ],
            "text/plain": [
              "                                               Tweets\n",
              "0   Another Fake Doctor... Atleast \"Dr\" Matthew wa...\n",
              "1   A fake Doctor, Dr Matthew Bongani Lani has bee...\n",
              "2    Fake Doctor, Dr Matthew Lani has been arrested..\n",
              "3   Fake Doctor, Dr Matthew claim he's at work doi...\n",
              "4   It ended in tears for fake Doctor, Dr Matthew ...\n",
              "..                                                ...\n",
              "95  BREAKING: Charges against fake doctor Bongani ...\n",
              "96  ... medical professional. Image ... On one of ...\n",
              "97  A fake Doctor, Dr Matthew Bongani Lani has bee...\n",
              "98  Dr Mathew Lani or whatever his name is asked m...\n",
              "99  That it took private security to do something ...\n",
              "\n",
              "[100 rows x 1 columns]"
            ]
          },
          "execution_count": 13,
          "metadata": {},
          "output_type": "execute_result"
        }
      ],
      "source": [
        "df"
      ]
    },
    {
      "cell_type": "code",
      "execution_count": 14,
      "metadata": {},
      "outputs": [],
      "source": [
        "import regex as re\n",
        "import nltk"
      ]
    },
    {
      "cell_type": "code",
      "execution_count": 15,
      "metadata": {},
      "outputs": [
        {
          "name": "stdout",
          "output_type": "stream",
          "text": [
            "Requirement already satisfied: nltk in c:\\python311\\lib\\site-packages (3.8.1)\n",
            "Requirement already satisfied: click in c:\\python311\\lib\\site-packages (from nltk) (8.1.7)\n",
            "Requirement already satisfied: joblib in c:\\python311\\lib\\site-packages (from nltk) (1.3.2)\n",
            "Requirement already satisfied: regex>=2021.8.3 in c:\\python311\\lib\\site-packages (from nltk) (2023.10.3)\n",
            "Requirement already satisfied: tqdm in c:\\python311\\lib\\site-packages (from nltk) (4.66.1)\n",
            "Requirement already satisfied: colorama in c:\\users\\student\\appdata\\roaming\\python\\python311\\site-packages (from click->nltk) (0.4.6)\n",
            "Note: you may need to restart the kernel to use updated packages.\n"
          ]
        },
        {
          "name": "stderr",
          "output_type": "stream",
          "text": [
            "\n",
            "[notice] A new release of pip is available: 23.2.1 -> 23.3.1\n",
            "[notice] To update, run: python.exe -m pip install --upgrade pip\n"
          ]
        }
      ],
      "source": [
        "pip install nltk"
      ]
    },
    {
      "cell_type": "code",
      "execution_count": 16,
      "metadata": {},
      "outputs": [
        {
          "name": "stdout",
          "output_type": "stream",
          "text": [
            "Requirement already satisfied: pip in c:\\python311\\lib\\site-packages (23.2.1)Note: you may need to restart the kernel to use updated packages.\n",
            "\n",
            "Collecting pip\n",
            "  Obtaining dependency information for pip from https://files.pythonhosted.org/packages/47/6a/453160888fab7c6a432a6e25f8afe6256d0d9f2cbd25971021da6491d899/pip-23.3.1-py3-none-any.whl.metadata\n",
            "  Using cached pip-23.3.1-py3-none-any.whl.metadata (3.5 kB)\n",
            "Using cached pip-23.3.1-py3-none-any.whl (2.1 MB)\n",
            "Installing collected packages: pip\n",
            "  Attempting uninstall: pip\n",
            "    Found existing installation: pip 23.2.1\n",
            "    Uninstalling pip-23.2.1:\n"
          ]
        },
        {
          "name": "stderr",
          "output_type": "stream",
          "text": [
            "ERROR: Could not install packages due to an OSError: [WinError 5] Access is denied: 'c:\\\\python311\\\\lib\\\\site-packages\\\\pip-23.2.1.dist-info\\\\AUTHORS.txt'\n",
            "Consider using the `--user` option or check the permissions.\n",
            "\n",
            "\n",
            "[notice] A new release of pip is available: 23.2.1 -> 23.3.1\n",
            "[notice] To update, run: python.exe -m pip install --upgrade pip\n"
          ]
        }
      ],
      "source": [
        "pip install --upgrade pip"
      ]
    },
    {
      "cell_type": "code",
      "execution_count": 17,
      "metadata": {},
      "outputs": [
        {
          "name": "stderr",
          "output_type": "stream",
          "text": [
            "[nltk_data] Downloading package punkt to C:\\Users\\Student/nltk_data...\n",
            "[nltk_data]   Package punkt is already up-to-date!\n",
            "[nltk_data] Downloading package stopwords to\n",
            "[nltk_data]     C:\\Users\\Student/nltk_data...\n",
            "[nltk_data]   Package stopwords is already up-to-date!\n"
          ]
        },
        {
          "data": {
            "text/plain": [
              "True"
            ]
          },
          "execution_count": 17,
          "metadata": {},
          "output_type": "execute_result"
        }
      ],
      "source": [
        "from nltk.corpus import stopwords\n",
        "nltk.download('punkt')\n",
        "nltk.download('stopwords')"
      ]
    },
    {
      "cell_type": "code",
      "execution_count": 18,
      "metadata": {},
      "outputs": [],
      "source": [
        "for i in range(len(df)):\n",
        "    df.loc[i,\"Tweets\"]=re.sub(r'[^\\w\\s]', '', df.loc[i,\"Tweets\"])\n",
        "for i in range(len(df)):\n",
        "    df.loc[i,\"Tweets\"] = df.loc[i,\"Tweets\"].lower()\n",
        "def remove_stopwords(text):\n",
        "    # Tokenize the text\n",
        "    tokens = nltk.word_tokenize(text)\n",
        "\n",
        "    # Remove stopwords\n",
        "    filtered_tokens = [word for word in tokens if word.lower() not in stopwords.words('english')]\n",
        "\n",
        "    # Join the filtered tokens back into a single string\n",
        "    return ' '.join(filtered_tokens)\n",
        "df.loc[\"Tweets\"] = df.loc[:,\"Tweets\"].apply(remove_stopwords)\n"
      ]
    },
    {
      "cell_type": "code",
      "execution_count": 19,
      "metadata": {},
      "outputs": [],
      "source": [
        "df.dropna(inplace=True)"
      ]
    },
    {
      "cell_type": "code",
      "execution_count": 20,
      "metadata": {},
      "outputs": [
        {
          "data": {
            "text/html": [
              "<div>\n",
              "<style scoped>\n",
              "    .dataframe tbody tr th:only-of-type {\n",
              "        vertical-align: middle;\n",
              "    }\n",
              "\n",
              "    .dataframe tbody tr th {\n",
              "        vertical-align: top;\n",
              "    }\n",
              "\n",
              "    .dataframe thead th {\n",
              "        text-align: right;\n",
              "    }\n",
              "</style>\n",
              "<table border=\"1\" class=\"dataframe\">\n",
              "  <thead>\n",
              "    <tr style=\"text-align: right;\">\n",
              "      <th></th>\n",
              "      <th>Tweets</th>\n",
              "    </tr>\n",
              "  </thead>\n",
              "  <tbody>\n",
              "    <tr>\n",
              "      <th>0</th>\n",
              "      <td>another fake doctor atleast dr matthew was del...</td>\n",
              "    </tr>\n",
              "    <tr>\n",
              "      <th>1</th>\n",
              "      <td>a fake doctor dr matthew bongani lani has been...</td>\n",
              "    </tr>\n",
              "    <tr>\n",
              "      <th>2</th>\n",
              "      <td>fake doctor dr matthew lani has been arrested</td>\n",
              "    </tr>\n",
              "    <tr>\n",
              "      <th>3</th>\n",
              "      <td>fake doctor dr matthew claim hes at work doing...</td>\n",
              "    </tr>\n",
              "    <tr>\n",
              "      <th>4</th>\n",
              "      <td>it ended in tears for fake doctor dr matthew lani</td>\n",
              "    </tr>\n",
              "    <tr>\n",
              "      <th>...</th>\n",
              "      <td>...</td>\n",
              "    </tr>\n",
              "    <tr>\n",
              "      <th>95</th>\n",
              "      <td>breaking charges against fake doctor bongani l...</td>\n",
              "    </tr>\n",
              "    <tr>\n",
              "      <th>96</th>\n",
              "      <td>medical professional image  on one of his vid...</td>\n",
              "    </tr>\n",
              "    <tr>\n",
              "      <th>97</th>\n",
              "      <td>a fake doctor dr matthew bongani lani has been...</td>\n",
              "    </tr>\n",
              "    <tr>\n",
              "      <th>98</th>\n",
              "      <td>dr mathew lani or whatever his name is asked m...</td>\n",
              "    </tr>\n",
              "    <tr>\n",
              "      <th>99</th>\n",
              "      <td>that it took private security to do something ...</td>\n",
              "    </tr>\n",
              "  </tbody>\n",
              "</table>\n",
              "<p>100 rows × 1 columns</p>\n",
              "</div>"
            ],
            "text/plain": [
              "                                               Tweets\n",
              "0   another fake doctor atleast dr matthew was del...\n",
              "1   a fake doctor dr matthew bongani lani has been...\n",
              "2       fake doctor dr matthew lani has been arrested\n",
              "3   fake doctor dr matthew claim hes at work doing...\n",
              "4   it ended in tears for fake doctor dr matthew lani\n",
              "..                                                ...\n",
              "95  breaking charges against fake doctor bongani l...\n",
              "96   medical professional image  on one of his vid...\n",
              "97  a fake doctor dr matthew bongani lani has been...\n",
              "98  dr mathew lani or whatever his name is asked m...\n",
              "99  that it took private security to do something ...\n",
              "\n",
              "[100 rows x 1 columns]"
            ]
          },
          "execution_count": 20,
          "metadata": {},
          "output_type": "execute_result"
        }
      ],
      "source": [
        "df"
      ]
    },
    {
      "cell_type": "code",
      "execution_count": 21,
      "metadata": {},
      "outputs": [],
      "source": [
        "for i in range(len(df)):\n",
        "    df.loc[i,\"Tweets\"] = re.sub(r'[^\\x00-\\x7F]+', '', df.loc[i,\"Tweets\"])\n",
        "for i in range(len(df)):\n",
        "    df.loc[i,\"Tweets\"] = re.sub(r'\\d+', '', df.loc[i,\"Tweets\"])"
      ]
    },
    {
      "cell_type": "code",
      "execution_count": 22,
      "metadata": {},
      "outputs": [
        {
          "data": {
            "text/html": [
              "<div>\n",
              "<style scoped>\n",
              "    .dataframe tbody tr th:only-of-type {\n",
              "        vertical-align: middle;\n",
              "    }\n",
              "\n",
              "    .dataframe tbody tr th {\n",
              "        vertical-align: top;\n",
              "    }\n",
              "\n",
              "    .dataframe thead th {\n",
              "        text-align: right;\n",
              "    }\n",
              "</style>\n",
              "<table border=\"1\" class=\"dataframe\">\n",
              "  <thead>\n",
              "    <tr style=\"text-align: right;\">\n",
              "      <th></th>\n",
              "      <th>Tweets</th>\n",
              "    </tr>\n",
              "  </thead>\n",
              "  <tbody>\n",
              "    <tr>\n",
              "      <th>0</th>\n",
              "      <td>another fake doctor atleast dr matthew was del...</td>\n",
              "    </tr>\n",
              "    <tr>\n",
              "      <th>1</th>\n",
              "      <td>a fake doctor dr matthew bongani lani has been...</td>\n",
              "    </tr>\n",
              "    <tr>\n",
              "      <th>2</th>\n",
              "      <td>fake doctor dr matthew lani has been arrested</td>\n",
              "    </tr>\n",
              "    <tr>\n",
              "      <th>3</th>\n",
              "      <td>fake doctor dr matthew claim hes at work doing...</td>\n",
              "    </tr>\n",
              "    <tr>\n",
              "      <th>4</th>\n",
              "      <td>it ended in tears for fake doctor dr matthew lani</td>\n",
              "    </tr>\n",
              "    <tr>\n",
              "      <th>...</th>\n",
              "      <td>...</td>\n",
              "    </tr>\n",
              "    <tr>\n",
              "      <th>95</th>\n",
              "      <td>breaking charges against fake doctor bongani l...</td>\n",
              "    </tr>\n",
              "    <tr>\n",
              "      <th>96</th>\n",
              "      <td>medical professional image  on one of his vid...</td>\n",
              "    </tr>\n",
              "    <tr>\n",
              "      <th>97</th>\n",
              "      <td>a fake doctor dr matthew bongani lani has been...</td>\n",
              "    </tr>\n",
              "    <tr>\n",
              "      <th>98</th>\n",
              "      <td>dr mathew lani or whatever his name is asked m...</td>\n",
              "    </tr>\n",
              "    <tr>\n",
              "      <th>99</th>\n",
              "      <td>that it took private security to do something ...</td>\n",
              "    </tr>\n",
              "  </tbody>\n",
              "</table>\n",
              "<p>100 rows × 1 columns</p>\n",
              "</div>"
            ],
            "text/plain": [
              "                                               Tweets\n",
              "0   another fake doctor atleast dr matthew was del...\n",
              "1   a fake doctor dr matthew bongani lani has been...\n",
              "2       fake doctor dr matthew lani has been arrested\n",
              "3   fake doctor dr matthew claim hes at work doing...\n",
              "4   it ended in tears for fake doctor dr matthew lani\n",
              "..                                                ...\n",
              "95  breaking charges against fake doctor bongani l...\n",
              "96   medical professional image  on one of his vid...\n",
              "97  a fake doctor dr matthew bongani lani has been...\n",
              "98  dr mathew lani or whatever his name is asked m...\n",
              "99  that it took private security to do something ...\n",
              "\n",
              "[100 rows x 1 columns]"
            ]
          },
          "execution_count": 22,
          "metadata": {},
          "output_type": "execute_result"
        }
      ],
      "source": [
        "df"
      ]
    },
    {
      "cell_type": "code",
      "execution_count": 24,
      "metadata": {},
      "outputs": [],
      "source": [
        "import plotly.express as px"
      ]
    },
    {
      "cell_type": "code",
      "execution_count": 25,
      "metadata": {},
      "outputs": [],
      "source": [
        "#Get sentiments\n",
        "from nltk.sentiment import SentimentIntensityAnalyzer\n",
        "\n",
        "# Download NLTK resources\n",
        "#nltk.download('vader_lexicon')\n",
        "\n",
        "# Load your DataFrame (replace this with your actual data)\n",
        "\n",
        "\n",
        "# Sentiment analysis function\n",
        "def analyze_sentiment(text):\n",
        "    sia = SentimentIntensityAnalyzer()\n",
        "    sentiment_score = sia.polarity_scores(text)['compound']\n",
        "\n",
        "    if sentiment_score >= 0.05:\n",
        "        return 'Positive'\n",
        "    elif sentiment_score <= -0.05:\n",
        "        return 'Negative'\n",
        "    else:\n",
        "        return 'Neutral'\n",
        "\n",
        "# Apply sentiment analysis to the 'Tweets' column\n",
        "df['Sentiment'] = df['Tweets'].apply(analyze_sentiment)\n",
        "\n",
        "# Display the DataFrame with sentiment analysis results\n"
      ]
    },
    {
      "cell_type": "code",
      "execution_count": 26,
      "metadata": {},
      "outputs": [
        {
          "data": {
            "text/html": [
              "<div>\n",
              "<style scoped>\n",
              "    .dataframe tbody tr th:only-of-type {\n",
              "        vertical-align: middle;\n",
              "    }\n",
              "\n",
              "    .dataframe tbody tr th {\n",
              "        vertical-align: top;\n",
              "    }\n",
              "\n",
              "    .dataframe thead th {\n",
              "        text-align: right;\n",
              "    }\n",
              "</style>\n",
              "<table border=\"1\" class=\"dataframe\">\n",
              "  <thead>\n",
              "    <tr style=\"text-align: right;\">\n",
              "      <th></th>\n",
              "      <th>Tweets</th>\n",
              "      <th>Sentiment</th>\n",
              "    </tr>\n",
              "  </thead>\n",
              "  <tbody>\n",
              "    <tr>\n",
              "      <th>0</th>\n",
              "      <td>another fake doctor atleast dr matthew was del...</td>\n",
              "      <td>Negative</td>\n",
              "    </tr>\n",
              "    <tr>\n",
              "      <th>1</th>\n",
              "      <td>a fake doctor dr matthew bongani lani has been...</td>\n",
              "      <td>Negative</td>\n",
              "    </tr>\n",
              "    <tr>\n",
              "      <th>2</th>\n",
              "      <td>fake doctor dr matthew lani has been arrested</td>\n",
              "      <td>Negative</td>\n",
              "    </tr>\n",
              "    <tr>\n",
              "      <th>3</th>\n",
              "      <td>fake doctor dr matthew claim hes at work doing...</td>\n",
              "      <td>Negative</td>\n",
              "    </tr>\n",
              "    <tr>\n",
              "      <th>4</th>\n",
              "      <td>it ended in tears for fake doctor dr matthew lani</td>\n",
              "      <td>Negative</td>\n",
              "    </tr>\n",
              "    <tr>\n",
              "      <th>...</th>\n",
              "      <td>...</td>\n",
              "      <td>...</td>\n",
              "    </tr>\n",
              "    <tr>\n",
              "      <th>95</th>\n",
              "      <td>breaking charges against fake doctor bongani l...</td>\n",
              "      <td>Negative</td>\n",
              "    </tr>\n",
              "    <tr>\n",
              "      <th>96</th>\n",
              "      <td>medical professional image  on one of his vid...</td>\n",
              "      <td>Negative</td>\n",
              "    </tr>\n",
              "    <tr>\n",
              "      <th>97</th>\n",
              "      <td>a fake doctor dr matthew bongani lani has been...</td>\n",
              "      <td>Negative</td>\n",
              "    </tr>\n",
              "    <tr>\n",
              "      <th>98</th>\n",
              "      <td>dr mathew lani or whatever his name is asked m...</td>\n",
              "      <td>Negative</td>\n",
              "    </tr>\n",
              "    <tr>\n",
              "      <th>99</th>\n",
              "      <td>that it took private security to do something ...</td>\n",
              "      <td>Negative</td>\n",
              "    </tr>\n",
              "  </tbody>\n",
              "</table>\n",
              "<p>100 rows × 2 columns</p>\n",
              "</div>"
            ],
            "text/plain": [
              "                                               Tweets Sentiment\n",
              "0   another fake doctor atleast dr matthew was del...  Negative\n",
              "1   a fake doctor dr matthew bongani lani has been...  Negative\n",
              "2       fake doctor dr matthew lani has been arrested  Negative\n",
              "3   fake doctor dr matthew claim hes at work doing...  Negative\n",
              "4   it ended in tears for fake doctor dr matthew lani  Negative\n",
              "..                                                ...       ...\n",
              "95  breaking charges against fake doctor bongani l...  Negative\n",
              "96   medical professional image  on one of his vid...  Negative\n",
              "97  a fake doctor dr matthew bongani lani has been...  Negative\n",
              "98  dr mathew lani or whatever his name is asked m...  Negative\n",
              "99  that it took private security to do something ...  Negative\n",
              "\n",
              "[100 rows x 2 columns]"
            ]
          },
          "execution_count": 26,
          "metadata": {},
          "output_type": "execute_result"
        }
      ],
      "source": [
        "df"
      ]
    },
    {
      "cell_type": "code",
      "execution_count": 27,
      "metadata": {},
      "outputs": [
        {
          "data": {
            "application/vnd.plotly.v1+json": {
              "config": {
                "plotlyServerURL": "https://plot.ly"
              },
              "data": [
                {
                  "hole": 0.6,
                  "labels": [
                    "Negative",
                    "Positive",
                    "Neutral"
                  ],
                  "marker": {
                    "colors": [
                      "red",
                      "lime",
                      "orange"
                    ]
                  },
                  "type": "pie",
                  "values": [
                    97,
                    2,
                    1
                  ]
                }
              ],
              "layout": {
                "annotations": [
                  {
                    "font": {
                      "size": 20
                    },
                    "showarrow": false,
                    "text": "Sentiment",
                    "x": 0.5,
                    "y": 0.5
                  }
                ],
                "template": {
                  "data": {
                    "bar": [
                      {
                        "error_x": {
                          "color": "#2a3f5f"
                        },
                        "error_y": {
                          "color": "#2a3f5f"
                        },
                        "marker": {
                          "line": {
                            "color": "#E5ECF6",
                            "width": 0.5
                          },
                          "pattern": {
                            "fillmode": "overlay",
                            "size": 10,
                            "solidity": 0.2
                          }
                        },
                        "type": "bar"
                      }
                    ],
                    "barpolar": [
                      {
                        "marker": {
                          "line": {
                            "color": "#E5ECF6",
                            "width": 0.5
                          },
                          "pattern": {
                            "fillmode": "overlay",
                            "size": 10,
                            "solidity": 0.2
                          }
                        },
                        "type": "barpolar"
                      }
                    ],
                    "carpet": [
                      {
                        "aaxis": {
                          "endlinecolor": "#2a3f5f",
                          "gridcolor": "white",
                          "linecolor": "white",
                          "minorgridcolor": "white",
                          "startlinecolor": "#2a3f5f"
                        },
                        "baxis": {
                          "endlinecolor": "#2a3f5f",
                          "gridcolor": "white",
                          "linecolor": "white",
                          "minorgridcolor": "white",
                          "startlinecolor": "#2a3f5f"
                        },
                        "type": "carpet"
                      }
                    ],
                    "choropleth": [
                      {
                        "colorbar": {
                          "outlinewidth": 0,
                          "ticks": ""
                        },
                        "type": "choropleth"
                      }
                    ],
                    "contour": [
                      {
                        "colorbar": {
                          "outlinewidth": 0,
                          "ticks": ""
                        },
                        "colorscale": [
                          [
                            0,
                            "#0d0887"
                          ],
                          [
                            0.1111111111111111,
                            "#46039f"
                          ],
                          [
                            0.2222222222222222,
                            "#7201a8"
                          ],
                          [
                            0.3333333333333333,
                            "#9c179e"
                          ],
                          [
                            0.4444444444444444,
                            "#bd3786"
                          ],
                          [
                            0.5555555555555556,
                            "#d8576b"
                          ],
                          [
                            0.6666666666666666,
                            "#ed7953"
                          ],
                          [
                            0.7777777777777778,
                            "#fb9f3a"
                          ],
                          [
                            0.8888888888888888,
                            "#fdca26"
                          ],
                          [
                            1,
                            "#f0f921"
                          ]
                        ],
                        "type": "contour"
                      }
                    ],
                    "contourcarpet": [
                      {
                        "colorbar": {
                          "outlinewidth": 0,
                          "ticks": ""
                        },
                        "type": "contourcarpet"
                      }
                    ],
                    "heatmap": [
                      {
                        "colorbar": {
                          "outlinewidth": 0,
                          "ticks": ""
                        },
                        "colorscale": [
                          [
                            0,
                            "#0d0887"
                          ],
                          [
                            0.1111111111111111,
                            "#46039f"
                          ],
                          [
                            0.2222222222222222,
                            "#7201a8"
                          ],
                          [
                            0.3333333333333333,
                            "#9c179e"
                          ],
                          [
                            0.4444444444444444,
                            "#bd3786"
                          ],
                          [
                            0.5555555555555556,
                            "#d8576b"
                          ],
                          [
                            0.6666666666666666,
                            "#ed7953"
                          ],
                          [
                            0.7777777777777778,
                            "#fb9f3a"
                          ],
                          [
                            0.8888888888888888,
                            "#fdca26"
                          ],
                          [
                            1,
                            "#f0f921"
                          ]
                        ],
                        "type": "heatmap"
                      }
                    ],
                    "heatmapgl": [
                      {
                        "colorbar": {
                          "outlinewidth": 0,
                          "ticks": ""
                        },
                        "colorscale": [
                          [
                            0,
                            "#0d0887"
                          ],
                          [
                            0.1111111111111111,
                            "#46039f"
                          ],
                          [
                            0.2222222222222222,
                            "#7201a8"
                          ],
                          [
                            0.3333333333333333,
                            "#9c179e"
                          ],
                          [
                            0.4444444444444444,
                            "#bd3786"
                          ],
                          [
                            0.5555555555555556,
                            "#d8576b"
                          ],
                          [
                            0.6666666666666666,
                            "#ed7953"
                          ],
                          [
                            0.7777777777777778,
                            "#fb9f3a"
                          ],
                          [
                            0.8888888888888888,
                            "#fdca26"
                          ],
                          [
                            1,
                            "#f0f921"
                          ]
                        ],
                        "type": "heatmapgl"
                      }
                    ],
                    "histogram": [
                      {
                        "marker": {
                          "pattern": {
                            "fillmode": "overlay",
                            "size": 10,
                            "solidity": 0.2
                          }
                        },
                        "type": "histogram"
                      }
                    ],
                    "histogram2d": [
                      {
                        "colorbar": {
                          "outlinewidth": 0,
                          "ticks": ""
                        },
                        "colorscale": [
                          [
                            0,
                            "#0d0887"
                          ],
                          [
                            0.1111111111111111,
                            "#46039f"
                          ],
                          [
                            0.2222222222222222,
                            "#7201a8"
                          ],
                          [
                            0.3333333333333333,
                            "#9c179e"
                          ],
                          [
                            0.4444444444444444,
                            "#bd3786"
                          ],
                          [
                            0.5555555555555556,
                            "#d8576b"
                          ],
                          [
                            0.6666666666666666,
                            "#ed7953"
                          ],
                          [
                            0.7777777777777778,
                            "#fb9f3a"
                          ],
                          [
                            0.8888888888888888,
                            "#fdca26"
                          ],
                          [
                            1,
                            "#f0f921"
                          ]
                        ],
                        "type": "histogram2d"
                      }
                    ],
                    "histogram2dcontour": [
                      {
                        "colorbar": {
                          "outlinewidth": 0,
                          "ticks": ""
                        },
                        "colorscale": [
                          [
                            0,
                            "#0d0887"
                          ],
                          [
                            0.1111111111111111,
                            "#46039f"
                          ],
                          [
                            0.2222222222222222,
                            "#7201a8"
                          ],
                          [
                            0.3333333333333333,
                            "#9c179e"
                          ],
                          [
                            0.4444444444444444,
                            "#bd3786"
                          ],
                          [
                            0.5555555555555556,
                            "#d8576b"
                          ],
                          [
                            0.6666666666666666,
                            "#ed7953"
                          ],
                          [
                            0.7777777777777778,
                            "#fb9f3a"
                          ],
                          [
                            0.8888888888888888,
                            "#fdca26"
                          ],
                          [
                            1,
                            "#f0f921"
                          ]
                        ],
                        "type": "histogram2dcontour"
                      }
                    ],
                    "mesh3d": [
                      {
                        "colorbar": {
                          "outlinewidth": 0,
                          "ticks": ""
                        },
                        "type": "mesh3d"
                      }
                    ],
                    "parcoords": [
                      {
                        "line": {
                          "colorbar": {
                            "outlinewidth": 0,
                            "ticks": ""
                          }
                        },
                        "type": "parcoords"
                      }
                    ],
                    "pie": [
                      {
                        "automargin": true,
                        "type": "pie"
                      }
                    ],
                    "scatter": [
                      {
                        "fillpattern": {
                          "fillmode": "overlay",
                          "size": 10,
                          "solidity": 0.2
                        },
                        "type": "scatter"
                      }
                    ],
                    "scatter3d": [
                      {
                        "line": {
                          "colorbar": {
                            "outlinewidth": 0,
                            "ticks": ""
                          }
                        },
                        "marker": {
                          "colorbar": {
                            "outlinewidth": 0,
                            "ticks": ""
                          }
                        },
                        "type": "scatter3d"
                      }
                    ],
                    "scattercarpet": [
                      {
                        "marker": {
                          "colorbar": {
                            "outlinewidth": 0,
                            "ticks": ""
                          }
                        },
                        "type": "scattercarpet"
                      }
                    ],
                    "scattergeo": [
                      {
                        "marker": {
                          "colorbar": {
                            "outlinewidth": 0,
                            "ticks": ""
                          }
                        },
                        "type": "scattergeo"
                      }
                    ],
                    "scattergl": [
                      {
                        "marker": {
                          "colorbar": {
                            "outlinewidth": 0,
                            "ticks": ""
                          }
                        },
                        "type": "scattergl"
                      }
                    ],
                    "scattermapbox": [
                      {
                        "marker": {
                          "colorbar": {
                            "outlinewidth": 0,
                            "ticks": ""
                          }
                        },
                        "type": "scattermapbox"
                      }
                    ],
                    "scatterpolar": [
                      {
                        "marker": {
                          "colorbar": {
                            "outlinewidth": 0,
                            "ticks": ""
                          }
                        },
                        "type": "scatterpolar"
                      }
                    ],
                    "scatterpolargl": [
                      {
                        "marker": {
                          "colorbar": {
                            "outlinewidth": 0,
                            "ticks": ""
                          }
                        },
                        "type": "scatterpolargl"
                      }
                    ],
                    "scatterternary": [
                      {
                        "marker": {
                          "colorbar": {
                            "outlinewidth": 0,
                            "ticks": ""
                          }
                        },
                        "type": "scatterternary"
                      }
                    ],
                    "surface": [
                      {
                        "colorbar": {
                          "outlinewidth": 0,
                          "ticks": ""
                        },
                        "colorscale": [
                          [
                            0,
                            "#0d0887"
                          ],
                          [
                            0.1111111111111111,
                            "#46039f"
                          ],
                          [
                            0.2222222222222222,
                            "#7201a8"
                          ],
                          [
                            0.3333333333333333,
                            "#9c179e"
                          ],
                          [
                            0.4444444444444444,
                            "#bd3786"
                          ],
                          [
                            0.5555555555555556,
                            "#d8576b"
                          ],
                          [
                            0.6666666666666666,
                            "#ed7953"
                          ],
                          [
                            0.7777777777777778,
                            "#fb9f3a"
                          ],
                          [
                            0.8888888888888888,
                            "#fdca26"
                          ],
                          [
                            1,
                            "#f0f921"
                          ]
                        ],
                        "type": "surface"
                      }
                    ],
                    "table": [
                      {
                        "cells": {
                          "fill": {
                            "color": "#EBF0F8"
                          },
                          "line": {
                            "color": "white"
                          }
                        },
                        "header": {
                          "fill": {
                            "color": "#C8D4E3"
                          },
                          "line": {
                            "color": "white"
                          }
                        },
                        "type": "table"
                      }
                    ]
                  },
                  "layout": {
                    "annotationdefaults": {
                      "arrowcolor": "#2a3f5f",
                      "arrowhead": 0,
                      "arrowwidth": 1
                    },
                    "autotypenumbers": "strict",
                    "coloraxis": {
                      "colorbar": {
                        "outlinewidth": 0,
                        "ticks": ""
                      }
                    },
                    "colorscale": {
                      "diverging": [
                        [
                          0,
                          "#8e0152"
                        ],
                        [
                          0.1,
                          "#c51b7d"
                        ],
                        [
                          0.2,
                          "#de77ae"
                        ],
                        [
                          0.3,
                          "#f1b6da"
                        ],
                        [
                          0.4,
                          "#fde0ef"
                        ],
                        [
                          0.5,
                          "#f7f7f7"
                        ],
                        [
                          0.6,
                          "#e6f5d0"
                        ],
                        [
                          0.7,
                          "#b8e186"
                        ],
                        [
                          0.8,
                          "#7fbc41"
                        ],
                        [
                          0.9,
                          "#4d9221"
                        ],
                        [
                          1,
                          "#276419"
                        ]
                      ],
                      "sequential": [
                        [
                          0,
                          "#0d0887"
                        ],
                        [
                          0.1111111111111111,
                          "#46039f"
                        ],
                        [
                          0.2222222222222222,
                          "#7201a8"
                        ],
                        [
                          0.3333333333333333,
                          "#9c179e"
                        ],
                        [
                          0.4444444444444444,
                          "#bd3786"
                        ],
                        [
                          0.5555555555555556,
                          "#d8576b"
                        ],
                        [
                          0.6666666666666666,
                          "#ed7953"
                        ],
                        [
                          0.7777777777777778,
                          "#fb9f3a"
                        ],
                        [
                          0.8888888888888888,
                          "#fdca26"
                        ],
                        [
                          1,
                          "#f0f921"
                        ]
                      ],
                      "sequentialminus": [
                        [
                          0,
                          "#0d0887"
                        ],
                        [
                          0.1111111111111111,
                          "#46039f"
                        ],
                        [
                          0.2222222222222222,
                          "#7201a8"
                        ],
                        [
                          0.3333333333333333,
                          "#9c179e"
                        ],
                        [
                          0.4444444444444444,
                          "#bd3786"
                        ],
                        [
                          0.5555555555555556,
                          "#d8576b"
                        ],
                        [
                          0.6666666666666666,
                          "#ed7953"
                        ],
                        [
                          0.7777777777777778,
                          "#fb9f3a"
                        ],
                        [
                          0.8888888888888888,
                          "#fdca26"
                        ],
                        [
                          1,
                          "#f0f921"
                        ]
                      ]
                    },
                    "colorway": [
                      "#636efa",
                      "#EF553B",
                      "#00cc96",
                      "#ab63fa",
                      "#FFA15A",
                      "#19d3f3",
                      "#FF6692",
                      "#B6E880",
                      "#FF97FF",
                      "#FECB52"
                    ],
                    "font": {
                      "color": "#2a3f5f"
                    },
                    "geo": {
                      "bgcolor": "white",
                      "lakecolor": "white",
                      "landcolor": "#E5ECF6",
                      "showlakes": true,
                      "showland": true,
                      "subunitcolor": "white"
                    },
                    "hoverlabel": {
                      "align": "left"
                    },
                    "hovermode": "closest",
                    "mapbox": {
                      "style": "light"
                    },
                    "paper_bgcolor": "white",
                    "plot_bgcolor": "#E5ECF6",
                    "polar": {
                      "angularaxis": {
                        "gridcolor": "white",
                        "linecolor": "white",
                        "ticks": ""
                      },
                      "bgcolor": "#E5ECF6",
                      "radialaxis": {
                        "gridcolor": "white",
                        "linecolor": "white",
                        "ticks": ""
                      }
                    },
                    "scene": {
                      "xaxis": {
                        "backgroundcolor": "#E5ECF6",
                        "gridcolor": "white",
                        "gridwidth": 2,
                        "linecolor": "white",
                        "showbackground": true,
                        "ticks": "",
                        "zerolinecolor": "white"
                      },
                      "yaxis": {
                        "backgroundcolor": "#E5ECF6",
                        "gridcolor": "white",
                        "gridwidth": 2,
                        "linecolor": "white",
                        "showbackground": true,
                        "ticks": "",
                        "zerolinecolor": "white"
                      },
                      "zaxis": {
                        "backgroundcolor": "#E5ECF6",
                        "gridcolor": "white",
                        "gridwidth": 2,
                        "linecolor": "white",
                        "showbackground": true,
                        "ticks": "",
                        "zerolinecolor": "white"
                      }
                    },
                    "shapedefaults": {
                      "line": {
                        "color": "#2a3f5f"
                      }
                    },
                    "ternary": {
                      "aaxis": {
                        "gridcolor": "white",
                        "linecolor": "white",
                        "ticks": ""
                      },
                      "baxis": {
                        "gridcolor": "white",
                        "linecolor": "white",
                        "ticks": ""
                      },
                      "bgcolor": "#E5ECF6",
                      "caxis": {
                        "gridcolor": "white",
                        "linecolor": "white",
                        "ticks": ""
                      }
                    },
                    "title": {
                      "x": 0.05
                    },
                    "xaxis": {
                      "automargin": true,
                      "gridcolor": "white",
                      "linecolor": "white",
                      "ticks": "",
                      "title": {
                        "standoff": 15
                      },
                      "zerolinecolor": "white",
                      "zerolinewidth": 2
                    },
                    "yaxis": {
                      "automargin": true,
                      "gridcolor": "white",
                      "linecolor": "white",
                      "ticks": "",
                      "title": {
                        "standoff": 15
                      },
                      "zerolinecolor": "white",
                      "zerolinewidth": 2
                    }
                  }
                },
                "title": {
                  "text": "Sentiment Distribution"
                }
              }
            }
          },
          "metadata": {},
          "output_type": "display_data"
        }
      ],
      "source": [
        "import plotly.graph_objects as go\n",
        "sentiment_counts = df['Sentiment'].value_counts()\n",
        "\n",
        "# Define colors for each sentiment\n",
        "colors = {'Positive': 'lime', 'Negative': 'red', 'Neutral': 'orange'}\n",
        "\n",
        "# Create a doughnut plot\n",
        "fig = go.Figure()\n",
        "\n",
        "fig.add_trace(go.Pie(\n",
        "    labels=sentiment_counts.index,\n",
        "    values=sentiment_counts.values,\n",
        "    hole=0.6,  # Set the size of the hole for a doughnut plot\n",
        "    marker=dict(colors=[colors[sentiment] for sentiment in sentiment_counts.index]),\n",
        "))\n",
        "\n",
        "fig.update_layout(\n",
        "    title='Sentiment Distribution',\n",
        "    annotations=[dict(text='Sentiment', x=0.5, y=0.5, font_size=20, showarrow=False)]\n",
        ")\n",
        "\n",
        "# Show the plot\n",
        "fig.show()"
      ]
    },
    {
      "cell_type": "code",
      "execution_count": 29,
      "metadata": {},
      "outputs": [],
      "source": []
    },
    {
      "cell_type": "code",
      "execution_count": 30,
      "metadata": {},
      "outputs": [
        {
          "data": {
            "text/html": [
              "<div>\n",
              "<style scoped>\n",
              "    .dataframe tbody tr th:only-of-type {\n",
              "        vertical-align: middle;\n",
              "    }\n",
              "\n",
              "    .dataframe tbody tr th {\n",
              "        vertical-align: top;\n",
              "    }\n",
              "\n",
              "    .dataframe thead th {\n",
              "        text-align: right;\n",
              "    }\n",
              "</style>\n",
              "<table border=\"1\" class=\"dataframe\">\n",
              "  <thead>\n",
              "    <tr style=\"text-align: right;\">\n",
              "      <th></th>\n",
              "      <th>Tweets</th>\n",
              "      <th>Sentiment</th>\n",
              "      <th>Tokens</th>\n",
              "    </tr>\n",
              "  </thead>\n",
              "  <tbody>\n",
              "    <tr>\n",
              "      <th>0</th>\n",
              "      <td>another fake doctor atleast dr matthew was del...</td>\n",
              "      <td>Negative</td>\n",
              "      <td>[another, fake, doctor, atleast, dr, matthew, ...</td>\n",
              "    </tr>\n",
              "    <tr>\n",
              "      <th>1</th>\n",
              "      <td>a fake doctor dr matthew bongani lani has been...</td>\n",
              "      <td>Negative</td>\n",
              "      <td>[fake, doctor, dr, matthew, bongani, lani, arr...</td>\n",
              "    </tr>\n",
              "    <tr>\n",
              "      <th>2</th>\n",
              "      <td>fake doctor dr matthew lani has been arrested</td>\n",
              "      <td>Negative</td>\n",
              "      <td>[fake, doctor, dr, matthew, lani, arrested]</td>\n",
              "    </tr>\n",
              "    <tr>\n",
              "      <th>3</th>\n",
              "      <td>fake doctor dr matthew claim hes at work doing...</td>\n",
              "      <td>Negative</td>\n",
              "      <td>[fake, doctor, dr, matthew, claim, hes, work, ...</td>\n",
              "    </tr>\n",
              "    <tr>\n",
              "      <th>4</th>\n",
              "      <td>it ended in tears for fake doctor dr matthew lani</td>\n",
              "      <td>Negative</td>\n",
              "      <td>[ended, tears, fake, doctor, dr, matthew, lani]</td>\n",
              "    </tr>\n",
              "    <tr>\n",
              "      <th>...</th>\n",
              "      <td>...</td>\n",
              "      <td>...</td>\n",
              "      <td>...</td>\n",
              "    </tr>\n",
              "    <tr>\n",
              "      <th>95</th>\n",
              "      <td>breaking charges against fake doctor bongani l...</td>\n",
              "      <td>Negative</td>\n",
              "      <td>[breaking, charges, fake, doctor, bongani, lan...</td>\n",
              "    </tr>\n",
              "    <tr>\n",
              "      <th>96</th>\n",
              "      <td>medical professional image  on one of his vid...</td>\n",
              "      <td>Negative</td>\n",
              "      <td>[medical, professional, image, one, videos, cl...</td>\n",
              "    </tr>\n",
              "    <tr>\n",
              "      <th>97</th>\n",
              "      <td>a fake doctor dr matthew bongani lani has been...</td>\n",
              "      <td>Negative</td>\n",
              "      <td>[fake, doctor, dr, matthew, bongani, lani, arr...</td>\n",
              "    </tr>\n",
              "    <tr>\n",
              "      <th>98</th>\n",
              "      <td>dr mathew lani or whatever his name is asked m...</td>\n",
              "      <td>Negative</td>\n",
              "      <td>[dr, mathew, lani, whatever, name, asked, tell...</td>\n",
              "    </tr>\n",
              "    <tr>\n",
              "      <th>99</th>\n",
              "      <td>that it took private security to do something ...</td>\n",
              "      <td>Negative</td>\n",
              "      <td>[took, private, security, something, fake, doc...</td>\n",
              "    </tr>\n",
              "  </tbody>\n",
              "</table>\n",
              "<p>100 rows × 3 columns</p>\n",
              "</div>"
            ],
            "text/plain": [
              "                                               Tweets Sentiment  \\\n",
              "0   another fake doctor atleast dr matthew was del...  Negative   \n",
              "1   a fake doctor dr matthew bongani lani has been...  Negative   \n",
              "2       fake doctor dr matthew lani has been arrested  Negative   \n",
              "3   fake doctor dr matthew claim hes at work doing...  Negative   \n",
              "4   it ended in tears for fake doctor dr matthew lani  Negative   \n",
              "..                                                ...       ...   \n",
              "95  breaking charges against fake doctor bongani l...  Negative   \n",
              "96   medical professional image  on one of his vid...  Negative   \n",
              "97  a fake doctor dr matthew bongani lani has been...  Negative   \n",
              "98  dr mathew lani or whatever his name is asked m...  Negative   \n",
              "99  that it took private security to do something ...  Negative   \n",
              "\n",
              "                                               Tokens  \n",
              "0   [another, fake, doctor, atleast, dr, matthew, ...  \n",
              "1   [fake, doctor, dr, matthew, bongani, lani, arr...  \n",
              "2         [fake, doctor, dr, matthew, lani, arrested]  \n",
              "3   [fake, doctor, dr, matthew, claim, hes, work, ...  \n",
              "4     [ended, tears, fake, doctor, dr, matthew, lani]  \n",
              "..                                                ...  \n",
              "95  [breaking, charges, fake, doctor, bongani, lan...  \n",
              "96  [medical, professional, image, one, videos, cl...  \n",
              "97  [fake, doctor, dr, matthew, bongani, lani, arr...  \n",
              "98  [dr, mathew, lani, whatever, name, asked, tell...  \n",
              "99  [took, private, security, something, fake, doc...  \n",
              "\n",
              "[100 rows x 3 columns]"
            ]
          },
          "execution_count": 30,
          "metadata": {},
          "output_type": "execute_result"
        }
      ],
      "source": [
        "df"
      ]
    },
    {
      "cell_type": "code",
      "execution_count": null,
      "metadata": {},
      "outputs": [],
      "source": []
    },
    {
      "cell_type": "code",
      "execution_count": null,
      "metadata": {},
      "outputs": [],
      "source": []
    },
    {
      "cell_type": "code",
      "execution_count": null,
      "metadata": {},
      "outputs": [],
      "source": []
    }
  ],
  "metadata": {
    "colab": {
      "provenance": []
    },
    "kernelspec": {
      "display_name": "Python 3",
      "name": "python3"
    },
    "language_info": {
      "codemirror_mode": {
        "name": "ipython",
        "version": 3
      },
      "file_extension": ".py",
      "mimetype": "text/x-python",
      "name": "python",
      "nbconvert_exporter": "python",
      "pygments_lexer": "ipython3",
      "version": "3.11.5"
    }
  },
  "nbformat": 4,
  "nbformat_minor": 0
}
